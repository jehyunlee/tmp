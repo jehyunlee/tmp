{
 "cells": [
  {
   "cell_type": "markdown",
   "metadata": {},
   "source": [
    "### Visualization of individual data on map with `folium`, `geoJSON` and `pandas DataFrame`"
   ]
  },
  {
   "cell_type": "markdown",
   "metadata": {},
   "source": [
    "#### 1. Preparation\n",
    "##### 1.1. Load `folium`\n",
    "> official `github` : https://github.com/python-visualization/folium  \n",
    "> documentation : https://python-visualization.github.io/folium/index.html  \n",
    "> examples : https://nbviewer.jupyter.org/github/python-visualization/folium/tree/master/examples/  \n",
    "> plugins : https://python-visualization.github.io/folium/plugins.html#folium-plugins  \n",
    "> * sample 1 : https://dailyheumsi.tistory.com/85?category=815369  \n",
    "> * sample 2 : https://dailyheumsi.tistory.com/92?category=815369  \n",
    "  \n",
    "> contributions : https://nbviewer.jupyter.org/github/python-visualization/folium_contrib/tree/master/notebooks/  "
   ]
  },
  {
   "cell_type": "code",
   "execution_count": 1,
   "metadata": {},
   "outputs": [],
   "source": [
    "import folium"
   ]
  },
  {
   "cell_type": "markdown",
   "metadata": {},
   "source": [
    "##### 1.2. Function: capture `html` to `png`  \n",
    "* This case is for `Firefox`.  \n",
    "```python\n",
    "browser = webdriver.Firefox()\n",
    "```  \n",
    "should be modified according to the browser.  \n",
    "* Since the size of `html` is too large sometimes, `png` is preferred.  \n",
    "* Large `html` file exceeds the maximum waiting time for rendering.\n",
    "  - in this case, edit `browser.set_page_load_timeout(time_in_seconds)` part with larger number"
   ]
  },
  {
   "cell_type": "code",
   "execution_count": 2,
   "metadata": {},
   "outputs": [],
   "source": [
    "from selenium import webdriver\n",
    "import time, os\n",
    "\n",
    "!export PATH=\"/home/jehyun/PycharmProjects/selenium/:$PATH\"\n",
    "\n",
    "def html2png(m,                     # foium map instance\n",
    "             html_name,             # str. ex. 'testmap.html'\n",
    "             png_name='map.png',    # str. ex. 'testmap.png'\n",
    "             delay=5,               # int or float. ex. 10\n",
    "             ):\n",
    "\n",
    "    delay=delay\n",
    "    fn = 'html/' + html_name\n",
    "    tmpurl='file://{path}/{mapfile}'.format(path=os.getcwd(),mapfile=fn)\n",
    "    m.save(fn)\n",
    "\n",
    "    browser = webdriver.Firefox()\n",
    "\n",
    "    try:\n",
    "        browser.set_page_load_timeout(600)\n",
    "        browser.get(tmpurl)\n",
    "        \n",
    "    except TimeoutException as ex:\n",
    "        isrunning = 0\n",
    "        print(\"Exception has been thrown. \" + str(ex))\n",
    "        browser.close()\n",
    "\n",
    "    #Give the map tiles some time to load\n",
    "    time.sleep(delay)\n",
    "    browser.save_screenshot('./images/'+png_name)\n",
    "    browser.quit()"
   ]
  },
  {
   "cell_type": "markdown",
   "metadata": {},
   "source": [
    "##### 1.3. Function : `pandas DataFrame` to `markdown`"
   ]
  },
  {
   "cell_type": "code",
   "execution_count": 3,
   "metadata": {},
   "outputs": [],
   "source": [
    "# Nice representation of dataframe in markdown\n",
    "import pandas as pd\n",
    "import copy\n",
    "from IPython.display import Markdown, display\n",
    "\n",
    "def df2md(df, maxlen=20):\n",
    "    _df = copy.deepcopy(df)\n",
    "    \n",
    "    for col in _df.columns:\n",
    "        _df[col] = _df[col].astype('str')\n",
    "        if (_df[col].str.len()> maxlen).any() :\n",
    "            _df[col].loc[_df[col].str.len() > maxlen] = _df[col].str.slice(stop=maxlen) + ' ...'\n",
    "\n",
    "    if '(index)' not in _df.columns:\n",
    "        _df.insert(0, '(index)', df.index)\n",
    "        \n",
    "    fmt = ['---' for i in range(len(_df.columns))]\n",
    "    df_fmt = pd.DataFrame([fmt], columns=_df.columns)\n",
    "    df_formatted = pd.concat([df_fmt, _df])\n",
    "    display(Markdown(df_formatted.to_csv(sep=\"|\", index=False)))\n",
    "    _df.drop(columns='(index)', axis=1, inplace=True)"
   ]
  },
  {
   "cell_type": "markdown",
   "metadata": {},
   "source": [
    "#### 2. Load Data\n",
    "##### 2.1. Solar Radiation data on each buildings in Daejeon"
   ]
  },
  {
   "cell_type": "code",
   "execution_count": 4,
   "metadata": {},
   "outputs": [
    {
     "data": {
      "text/markdown": [
       "(index)|gid|buld_se_cd|buld_se_nm|bdtyp_cd|apt_yn|gro_flo_co|sig_cd|sig_nm|emd_cd|emd_nm|tm_x|tm_y|lon|lat|buld_area|buld_elev|m01|m02|m03|m04|m05|m06|m07|m08|m09|m10|m11|m12|y17|st_m01|st_m02|st_m03|st_m04|st_m05|st_m06|st_m07|st_m08|st_m09|st_m10|st_m11|st_m12|st_y17\n",
       "---|---|---|---|---|---|---|---|---|---|---|---|---|---|---|---|---|---|---|---|---|---|---|---|---|---|---|---|---|---|---|---|---|---|---|---|---|---|---|---|---|---|---\n",
       "0|24300|0|지상|4299|N|1|30110|동구|30110137|대별동|241302.419829207|409864.414379324|127.459746194608|36.2858798245272|199.109760164108|80|61.587998174704|76.368132857176|108.372413947032|130.399191728005|153.301471581826|138.981246232986|94.1192299952874|116.160557618508|107.075909293615|76.0582836270332|63.2461349872442|57.7913106771616|1183.46187899663|77.4414291381836|97.5647354125977|136.456909179688|159.853820800781|181.146118164063|161.53076171875|109.31169128418|138.931045532227|133.254684448242|95.6145782470703|80.3922271728516|72.975700378418|1444.47375488281\n",
       "1|16295|0|지상|1001|N|1|30110|동구|30110105|가오동|240815.01297069|412384.958080419|127.454452653456|36.3086147051094|77.3923177693719|71|54.6587660438136|74.3240604024184|109.983418941498|131.021371841431|148.915192252711|136.026762912148|91.4622986442164|112.346493419848|109.010571178637|75.9642522084086|59.7529277174096|48.7103261571181|1152.17643617329|77.5996551513672|96.7234191894531|136.413635253906|159.390518188477|180.87614440918|165.518310546875|112.231346130371|137.366897583008|134.195907592773|96.3771133422852|79.9522476196289|72.7179718017578|1449.36315917969\n",
       "2|24341|0|지상|1001|N|1|30110|동구|30110137|대별동|241460.822383503|410090.94543095|127.461521377075|36.2879144426327|91.0763856790575|77|62.304043189339|78.0388102324113|110.389678457509|130.250699416451|150.068157859471|135.022302627563|92.2708638232687|114.937465916509|108.497603748156|77.568351952926|64.5584099811056|58.3052325248718|1182.21162281866|77.4414291381836|97.5647354125977|136.456909179688|159.853820800781|181.146118164063|161.53076171875|109.31169128418|138.931045532227|133.254684448242|95.6145782470703|80.3922271728516|72.975700378418|1444.47375488281\n",
       "3|24345|0|지상|4402|N|1|30110|동구|30110137|대별동|241530.22297262|410067.763074595|127.462292655181|36.2877025481814|51.2017056163047|78|48.6805400936692|60.6419043452651|86.4692395528158|105.063324045252|123.864551473547|112.271188029536|75.3915986661558|93.4298842041581|85.6682357434873|60.3520038746021|50.0022062372278|45.6562534349936|947.490926106771|77.4414291381836|97.5647354125977|136.456909179688|159.853820800781|181.146118164063|161.53076171875|109.31169128418|138.931045532227|133.254684448242|95.6145782470703|80.3922271728516|72.975700378418|1444.47375488281\n",
       "4|24374|0|지상|18999|N|1|30110|동구|30110137|대별동|241500.967910986|409605.204042476|127.461942445015|36.2835354035404|455.844166700596|80|67.2504756116031|84.0601618833709|119.429690775118|141.218664905481|162.556833049707|146.167080444202|99.8334377941332|124.410167208889|117.419092797396|83.4298420412499|69.2576492167356|62.8880742809229|1277.92121626201|77.4414291381836|97.5647354125977|136.456909179688|159.853820800781|181.146118164063|161.53076171875|109.31169128418|138.931045532227|133.254684448242|95.6145782470703|80.3922271728516|72.975700378418|1444.47375488281\n"
      ],
      "text/plain": [
       "<IPython.core.display.Markdown object>"
      ]
     },
     "metadata": {},
     "output_type": "display_data"
    }
   ],
   "source": [
    "df = pd.read_excel('NGL.xlsx')\n",
    "df.drop(index=0, inplace=True)\n",
    "df.reset_index(drop=True, inplace=True)\n",
    "df2md(df.head())"
   ]
  },
  {
   "cell_type": "markdown",
   "metadata": {},
   "source": [
    "##### 2.2. `JSON` files for Administrative districts"
   ]
  },
  {
   "cell_type": "code",
   "execution_count": 5,
   "metadata": {},
   "outputs": [],
   "source": [
    "# 'gu' and dong' data in Korea\n",
    "gu = f'https://raw.githubusercontent.com/jehyunlee/data-snippet/master/Korea_gu_20.json' \n",
    "dong = f'https://raw.githubusercontent.com/jehyunlee/data-snippet/master/Korea_dong_20.json' "
   ]
  },
  {
   "cell_type": "markdown",
   "metadata": {},
   "source": [
    "###### 2.2.1. Function : Load `JSON` from web"
   ]
  },
  {
   "cell_type": "code",
   "execution_count": 6,
   "metadata": {},
   "outputs": [],
   "source": [
    "import json\n",
    "import urllib.request\n",
    "\n",
    "def read_webjson(url):\n",
    "  with urllib.request.urlopen(url) as src:\n",
    "    data = json.loads(src.read().decode(), encoding='utf-8')\n",
    "    return data "
   ]
  },
  {
   "cell_type": "markdown",
   "metadata": {},
   "source": [
    "###### 2.2.2. Load `JSON` from web(gu) and local(dong)"
   ]
  },
  {
   "cell_type": "code",
   "execution_count": 7,
   "metadata": {},
   "outputs": [],
   "source": [
    "gu_data = read_webjson(gu)    # read 'gu' json from data-snippet\n",
    "\n",
    "# read 'dong'\n",
    "# For unknown reason, it is not possible to read from web.\n",
    "dong_data = json.loads(open('./geojsons/Korea_dong_20.json', 'r', encoding='utf-8').read())"
   ]
  },
  {
   "cell_type": "markdown",
   "metadata": {},
   "source": [
    "###### 2.2.3. Data Validataion"
   ]
  },
  {
   "cell_type": "code",
   "execution_count": 8,
   "metadata": {},
   "outputs": [
    {
     "name": "stdout",
     "output_type": "stream",
     "text": [
      "# of \"gu\"s in Daejeon = 5\n",
      "['동구', '중구', '서구', '유성구', '대덕구']\n"
     ]
    }
   ],
   "source": [
    "# Extracting 'gu' data from JSON\n",
    "gu_dj = {}\n",
    "gu_dj_value = []\n",
    "SIG_KOR_NM = []    # list of 'gu's\n",
    "\n",
    "for key, value in gu_data.items():\n",
    "  if key != 'features':\n",
    "    gu_dj.update({key: value})\n",
    "  else:\n",
    "    for feature in gu_data['features']:\n",
    "      properties = feature['properties']\n",
    "      sig_cd = properties['SIG_CD']\n",
    "      if sig_cd[:2] == '30':\n",
    "        SIG_KOR_NM.append(properties['SIG_KOR_NM'])\n",
    "        gu_dj_value.append(feature)\n",
    "gu_dj['features'] = gu_dj_value\n",
    "        \n",
    "print('# of \"gu\"s in Daejeon = {}'.format(len(SIG_KOR_NM)))\n",
    "print(SIG_KOR_NM)        \n",
    "\n",
    "# save list of 'gu's in json format\n",
    "with open(\"gu_dj.json\",\"w\", encoding='utf-8') as jsonfile:\n",
    "        json.dump(gu_dj,jsonfile,ensure_ascii=False)"
   ]
  },
  {
   "cell_type": "code",
   "execution_count": 9,
   "metadata": {},
   "outputs": [
    {
     "name": "stdout",
     "output_type": "stream",
     "text": [
      "# of \"dong\"s in Daejeon(JSON) = 177\n",
      "['가수원동', '가양동', '가오동', '가장동', '가정동', '갈마동', '갈전동', '갑동', '계산동', '관저동', '관평동', '괴곡동', '괴정동', '교촌동', '구도동', '구룡동', '구성동', '구암동', '구완동', '궁동', '금고동', '금동', '금탄동', '낭월동', '내동', '내탑동', '노은동', '대동', '대동', '대별동', '대사동', '대성동', '대정동', '대화동', '대흥동', '덕명동', '덕암동', '덕진동', '도룡동', '도마동', '도안동', '둔곡동', '둔산동', '마산동', '만년동', '매노동', '목달동', '목동', '목상동', '무수동', '문지동', '문창동', '문평동', '문화동', '미호동', '반석동', '방동', '방현동', '법동', '변동', '복수동', '복용동', '봉곡동', '봉명동', '봉산동', '부사동', '부수동', '비래동', '비룡동', '사성동', '사정동', '산성동', '산직동', '삼괴동', '삼성동', '삼정동', '삼정동', '상대동', '상서동', '상소동', '석교동', '석봉동', '선화동', '성남동', '성북동', '세동', '세천동', '소제동', '소호동', '송강동', '송정동', '송촌동', '수남동', '신대동', '신동', '신봉동', '신상동', '신성동', '신안동', '신일동', '신촌동', '신탄진동', '신하동', '신흥동', '안산동', '안영동', '어남동', '어은동', '연축동', '오동', '오동', '오류동', '오정동', '옥계동', '와동', '외삼동', '용계동', '용계동', '용두동', '용문동', '용산동', '용운동', '용전동', '용촌동', '용호동', '우명동', '원내동', '원동', '원신흥동', '원정동', '원촌동', '월평동', '유천동', '은행동', '읍내동', '이사동', '이현동', '인동', '자양동', '자운동', '장대동', '장동', '장동', '장안동', '장척동', '전민동', '정동', '정림동', '정생동', '주산동', '주촌동', '죽동', '중동', '중리동', '중촌동', '지족동', '직동', '천동', '추동', '추목동', '침산동', '탄방동', '탑립동', '태평동', '판암동', '평촌동', '평촌동', '하기동', '하소동', '학하동', '호동', '홍도동', '화암동', '황호동', '효동', '효평동', '흑석동']\n",
      "\n",
      "Duplicates are ['삼정동', '대동', '용계동', '오동', '평촌동', '장동']\n",
      "\n",
      "# of  \"dong\"s in Daejeon(JSON, unique) = 171\n",
      "['가수원동', '가양동', '가오동', '가장동', '가정동', '갈마동', '갈전동', '갑동', '계산동', '관저동', '관평동', '괴곡동', '괴정동', '교촌동', '구도동', '구룡동', '구성동', '구암동', '구완동', '궁동', '금고동', '금동', '금탄동', '낭월동', '내동', '내탑동', '노은동', '대동', '대별동', '대사동', '대성동', '대정동', '대화동', '대흥동', '덕명동', '덕암동', '덕진동', '도룡동', '도마동', '도안동', '둔곡동', '둔산동', '마산동', '만년동', '매노동', '목달동', '목동', '목상동', '무수동', '문지동', '문창동', '문평동', '문화동', '미호동', '반석동', '방동', '방현동', '법동', '변동', '복수동', '복용동', '봉곡동', '봉명동', '봉산동', '부사동', '부수동', '비래동', '비룡동', '사성동', '사정동', '산성동', '산직동', '삼괴동', '삼성동', '삼정동', '상대동', '상서동', '상소동', '석교동', '석봉동', '선화동', '성남동', '성북동', '세동', '세천동', '소제동', '소호동', '송강동', '송정동', '송촌동', '수남동', '신대동', '신동', '신봉동', '신상동', '신성동', '신안동', '신일동', '신촌동', '신탄진동', '신하동', '신흥동', '안산동', '안영동', '어남동', '어은동', '연축동', '오동', '오류동', '오정동', '옥계동', '와동', '외삼동', '용계동', '용두동', '용문동', '용산동', '용운동', '용전동', '용촌동', '용호동', '우명동', '원내동', '원동', '원신흥동', '원정동', '원촌동', '월평동', '유천동', '은행동', '읍내동', '이사동', '이현동', '인동', '자양동', '자운동', '장대동', '장동', '장안동', '장척동', '전민동', '정동', '정림동', '정생동', '주산동', '주촌동', '죽동', '중동', '중리동', '중촌동', '지족동', '직동', '천동', '추동', '추목동', '침산동', '탄방동', '탑립동', '태평동', '판암동', '평촌동', '하기동', '하소동', '학하동', '호동', '홍도동', '화암동', '황호동', '효동', '효평동', '흑석동']\n",
      "\n",
      "Missing \"dong\"s(Solar) = ['부수동', '수남동', '황호동']\n"
     ]
    }
   ],
   "source": [
    "import numpy as np\n",
    "\n",
    "# 1. Grouping 'dong' data from Solar Radiation\n",
    "\n",
    "df_dong = df.groupby(by='emd_nm').mean().reset_index()\n",
    "\n",
    "# 2. Extracting 'dong' data from JSON\n",
    "dong_dj = {}\n",
    "dong_dj_value = []\n",
    "EMD_KOR_NM = []    # list of 'dong's\n",
    "\n",
    "for key, value in dong_data.items():\n",
    "  if key != 'features':\n",
    "    dong_dj.update({key: value})\n",
    "  else:\n",
    "    for feature in dong_data['features']:\n",
    "      properties = feature['properties']\n",
    "      emd_cd = properties['EMD_CD']\n",
    "      if emd_cd[:2] == '30': # 'dong' filter : only in Daejeon\n",
    "        EMD_KOR_NM.append(properties['EMD_KOR_NM'])\n",
    "        dong_dj_value.append(feature)\n",
    "dong_dj['features'] = dong_dj_value\n",
    "\n",
    "print('# of \"dong\"s in Daejeon(JSON) = {}'.format(len(EMD_KOR_NM)))  # Wrong Value : Duplicates exist \n",
    "print(sorted(EMD_KOR_NM))  \n",
    "\n",
    "# 3. Find duplicates - geoJSON compression might have caused geometric split\n",
    "import collections\n",
    "print('\\nDuplicates are {}'.format([item for item, count in collections.Counter(EMD_KOR_NM).items() if count > 1]))\n",
    "EMD_KOR_NM = list(np.sort(np.unique(np.array(EMD_KOR_NM))))\n",
    "\n",
    "print('\\n# of  \"dong\"s in Daejeon(JSON, unique) = {}'.format(len(EMD_KOR_NM)))\n",
    "print(sorted(EMD_KOR_NM))\n",
    "\n",
    "# 4. Find missings - data from solar irradiation might have missing data\n",
    "dong_solar = df_dong['emd_nm'].unique()\n",
    "missing = []\n",
    "for dong in EMD_KOR_NM:\n",
    "  if dong not in dong_solar:\n",
    "    missing.append(dong)\n",
    "    \n",
    "print('\\nMissing \"dong\"s(Solar) = {}'.format(missing))\n",
    "\n",
    "# 5. Save list of 'dong's in json format, including duplicates,\n",
    "# because it is not important to treat them at the moment.\n",
    "with open(\"dong_dj.json\",\"w\", encoding='utf-8') as jsonfile:\n",
    "        json.dump(dong_dj,jsonfile,ensure_ascii=False)"
   ]
  },
  {
   "cell_type": "markdown",
   "metadata": {},
   "source": [
    "#### 3. Data Visualization\n",
    "> How to use colormap with `folium` marker plot : https://stackoverflow.com/questions/56876620/unsure-how-to-use-colormap-with-folium-marker-plot  \n",
    "> Colormap code-snippets : https://stackoverflow.com/questions/52911688/python-folium-choropleth-map-colors-incorrect/52981115#52981115  \n",
    "> Colormap and other code-snippets : http://incredible.ai/code-snippet/2019/03/16/GeoHash-And-GeoPandas/  \n",
    "> Color gradient code-snippets : https://stackoverflow.com/questions/25668828/how-to-create-colour-gradient-in-python  \n",
    "\n",
    "##### 3.1. Find Map Center Coordination"
   ]
  },
  {
   "cell_type": "code",
   "execution_count": 10,
   "metadata": {},
   "outputs": [
    {
     "name": "stdout",
     "output_type": "stream",
     "text": [
      "127.4013580315068 36.340743659590096\n"
     ]
    }
   ],
   "source": [
    "# center of the map\n",
    "\n",
    "lon_avg = df['lon'].mean()\n",
    "lat_avg = df['lat'].mean()\n",
    "print(lon_avg, lat_avg)"
   ]
  },
  {
   "cell_type": "markdown",
   "metadata": {},
   "source": [
    "##### 3.2. Function : Additive Color Operation "
   ]
  },
  {
   "cell_type": "code",
   "execution_count": 27,
   "metadata": {},
   "outputs": [],
   "source": [
    "def add_color(c1, c2, c3, ipol=0):\n",
    "    c1=np.array(mpl.colors.to_rgb(c1))\n",
    "    c2=np.array(mpl.colors.to_rgb(c2))\n",
    "    c3=np.array(mpl.colors.to_rgb(c3))\n",
    "    if ipol < 0.5:\n",
    "        # if c1 and c2 are parallel\n",
    "        if np.dot(c1, c2) == np.linalg.norm(c1) * np.linalg.norm(c2):\n",
    "            c = 2*((0.5-ipol)*c1 + ipol*c2)\n",
    "        else:\n",
    "            if ipol < 0.25:\n",
    "                c = c1 + 4*ipol * c2\n",
    "            elif ipol < 0.5:\n",
    "                c = (2 - 4*ipol) * c1 + c2\n",
    "    else:\n",
    "        # if c2 and c3 are parallel\n",
    "        if np.dot(c2, c3) == np.linalg.norm(c2) * np.linalg.norm(c3):\n",
    "            c = 2*((1-ipol)*c2 + (ipol-0.5)*c3)\n",
    "        else:\n",
    "            if ipol < 0.75:\n",
    "                c = c2 + (4*ipol-2) * c3\n",
    "            else:\n",
    "                c = (4 - 4*ipol) * c2 + c3\n",
    "    \n",
    "    if c.max() > 1:\n",
    "        c = c/c.max()\n",
    "        \n",
    "    return mpl.colors.to_hex(c)"
   ]
  },
  {
   "cell_type": "markdown",
   "metadata": {},
   "source": [
    "##### 3.3. Function : Map + Admistrative Districts + Data + Customized Colormap"
   ]
  },
  {
   "cell_type": "code",
   "execution_count": 28,
   "metadata": {},
   "outputs": [],
   "source": [
    "import branca\n",
    "import branca.colormap as cm\n",
    "import random\n",
    "import matplotlib as mpl\n",
    "import matplotlib.pyplot as plt\n",
    "import numpy as np\n",
    "\n",
    "def dj_datamap(df,               # pandas DataFrame\n",
    "               col,              # column to plot in df\n",
    "               *colors,          # colors for colormap formation : [c1, c2, c3]\n",
    "               legend = None,    # legend. if None, 'col' is applied.\n",
    "               datanum = None,   # number of data to plot. if None, all data.\n",
    "               binmin = None,    # min. value of data to colorize\n",
    "               binmax = None,    # max. value of data to colorize\n",
    "               binstep = 5,      # number of bins \n",
    "               colortype = 'linear'  # 'linear' or 'step'\n",
    "              ):\n",
    "    # filename to be saved\n",
    "    filename = '{}_{}'.format(col, legend)\n",
    "    \n",
    "    # folium map\n",
    "    m = folium.Map(location=[lat_avg, lon_avg], \n",
    "                   tiles='CartoDB positron',\n",
    "                   zoom_start=11)\n",
    "\n",
    "    # style function for 'gu'\n",
    "    style_function_gu = {\n",
    "                    'opacity': 0.7,\n",
    "                    'weight':1,\n",
    "                    'fillOpacity': 1,\n",
    "                    'color': 'black',\n",
    "                    'fillColor': 'white'\n",
    "                    }\n",
    "    \n",
    "    # style function for 'dong'\n",
    "    style_function_dong = {\n",
    "                    'opacity': 0.7,\n",
    "                    'weight':1,\n",
    "                    'fillOpacity': 0,\n",
    "                    'color': 'gray',\n",
    "                    'fillColor': 'white'\n",
    "                    }\n",
    "\n",
    "    # plot: adminstrative districts 'gu'\n",
    "    folium.GeoJson(gu_dj, name='gu_dj',\n",
    "                   style_function=lambda x: style_function_gu        # style_function has to be a function which calls dictionary\n",
    "                  ).add_to(m)        # Overlay on map\n",
    "    \n",
    "    # plot : administrative districts 'dong'\n",
    "    folium.GeoJson(dong_dj, name='dong_dj',\n",
    "                   style_function=lambda x: style_function_dong        # style_function has to be a function which calls dictionary\n",
    "                  ).add_to(m)        # Overlay on map\n",
    "\n",
    "    # colormap settings\n",
    "    # - values to colorize\n",
    "    if binmin == None:\n",
    "        vmin = df[col].min()\n",
    "    else:\n",
    "        vmin = binmin\n",
    "        \n",
    "    if binmax == None:    \n",
    "        vmax = df[col].max()\n",
    "    else:\n",
    "        vmax = binmax\n",
    "    \n",
    "    # - number of data to plot\n",
    "    if datanum == None:\n",
    "        datanum = df.shape[0]\n",
    "    \n",
    "    # - colormap configuration\n",
    "    c1 = colors[0][0]\n",
    "    c2 = colors[0][1]\n",
    "    c3 = colors[0][2]\n",
    "    \n",
    "    if colortype == 'linear':\n",
    "        clrmap = cm.LinearColormap(colors=[c1, c2, c3], vmin=vmin, vmax=vmax)\n",
    "    elif colortype == 'step':\n",
    "        _colors = []\n",
    "        for i in range(binstep):\n",
    "            _colors.append(add_color(c1, c2, c3, i/(binstep-1)))\n",
    "        \n",
    "        #- colormap visualization\n",
    "        bins = np.linspace(vmin, vmax, num=binstep+1)\n",
    "    \n",
    "        fig, axes = plt.subplots(figsize=(2,4), nrows=binstep+1, ncols=2, sharex=True)\n",
    "        for i in range(binstep+1):\n",
    "            rect = axes[i][0].patch\n",
    "            rect.set_facecolor(_colors[binstep-i-1])\n",
    "            if i == binstep:\n",
    "                rect.set_alpha(0)\n",
    "            axes[i][0].set_xlabel('')\n",
    "            axes[i][0].set_ylabel('')\n",
    "            axes[i][0].set_xticks([])\n",
    "            axes[i][0].set_yticks([])\n",
    "            axes[i][0].set_xticklabels([])\n",
    "            axes[i][0].set_yticklabels([])\n",
    "            axes[i][0].spines['top'].set_visible(True)\n",
    "            axes[i][0].spines['right'].set_visible(False)\n",
    "            axes[i][0].spines['bottom'].set_visible(False)\n",
    "            axes[i][0].spines['left'].set_visible(False)\n",
    "        for i in range(binstep+1):\n",
    "            axes[i][1].text(0.1, 1, '{:d}'.format(int(bins[binstep-i])), transform=axes[i][1].transAxes, fontsize=14, va='top', ha='left')\n",
    "            axes[i][1].set_xlabel('')\n",
    "            axes[i][1].set_ylabel('')\n",
    "            axes[i][1].set_xticks([])\n",
    "            axes[i][1].set_yticks([])\n",
    "            axes[i][1].set_xticklabels([])\n",
    "            axes[i][1].set_yticklabels([])\n",
    "            axes[i][1].spines['top'].set_visible(False)\n",
    "            axes[i][1].spines['right'].set_visible(False)\n",
    "            axes[i][1].spines['bottom'].set_visible(False)\n",
    "            axes[i][1].spines['left'].set_visible(False)\n",
    "            \n",
    "        plt.subplots_adjust(wspace=0, hspace=0, left=0.05, right=0.95, top=0.99, bottom=0.12)\n",
    "        #plt.tight_layout()\n",
    "        plt.savefig('./images/{}_legend.png'.format(filename))\n",
    "        plt.show()\n",
    "        \n",
    "        clrmap = cm.StepColormap(colors=_colors, vmin=vmin, vmax=vmax,\n",
    "                                index=np.linspace(vmin, vmax, binstep+1))\n",
    "    \n",
    "    # plot : data as markers (actually, dots)\n",
    "    for idx in df.index[:datanum]:\n",
    "        # Get longitude/latitude\n",
    "        lon = df.at[idx, 'lon']\n",
    "        lat = df.at[idx, 'lat']\n",
    "\n",
    "        data = df.at[idx, col]\n",
    "       \n",
    "        folium.CircleMarker(\n",
    "            location = [lat, lon],\n",
    "            color='grey',\n",
    "            fill_color=clrmap(data),\n",
    "            fill_opacity=1,\n",
    "            radius=0.5,\n",
    "            weight=0\n",
    "        ).add_to(m)\n",
    "        \n",
    "    # legend\n",
    "    if colortype == 'linear':\n",
    "        clrmap = clrmap.to_step(index=np.linspace(vmin, vmax, num=binstep))\n",
    "    elif colortype == 'step':\n",
    "        pass\n",
    "    \n",
    "    if legend == None:\n",
    "        legend = col\n",
    "    \n",
    "    clrmap.caption=legend\n",
    "    clrmap.add_to(m)\n",
    "\n",
    "    # layer control ON\n",
    "    folium.LayerControl().add_to(m)\n",
    "    \n",
    "    # save as file\n",
    "    html2png(m, '{}.html'.format(filename), '{}.png'.format(filename))\n",
    "    \n",
    "    return _colors"
   ]
  },
  {
   "cell_type": "code",
   "execution_count": 119,
   "metadata": {},
   "outputs": [],
   "source": [
    "colors = ['#ffff00', '#ffa000', '#ff6000']"
   ]
  },
  {
   "cell_type": "code",
   "execution_count": 120,
   "metadata": {},
   "outputs": [
    {
     "name": "stdout",
     "output_type": "stream",
     "text": [
      "#ffff00\n",
      "#ffd000\n",
      "#ffa000\n",
      "#ff8000\n",
      "#ff6000\n"
     ]
    },
    {
     "data": {
      "image/png": "[encoded data removed]",
      "text/plain": [
       "<Figure size 576x360 with 1 Axes>"
      ]
     },
     "metadata": {
      "needs_background": "light"
     },
     "output_type": "display_data"
    }
   ],
   "source": [
    "%matplotlib inline\n",
    "\n",
    "n = 200\n",
    "fig, ax = plt.subplots(figsize=(8, 5))\n",
    "for x in range(n+1):\n",
    "    color = add_color(colors[0],colors[1],colors[2], x/n)\n",
    "    if x in [0, 50, 100, 150, 200]:\n",
    "        print(color)\n",
    "    ax.axvline(x, color=color, linewidth=4) \n",
    "plt.show()"
   ]
  },
  {
   "cell_type": "code",
   "execution_count": 121,
   "metadata": {
    "collapsed": true,
    "jupyter": {
     "outputs_hidden": true
    }
   },
   "outputs": [
    {
     "data": {
      "image/png": "[encoded data removed]",
      "text/plain": [
       "<Figure size 144x288 with 20 Axes>"
      ]
     },
     "metadata": {},
     "output_type": "display_data"
    },
    {
     "data": {
      "text/plain": [
       "['#ffff00',\n",
       " '#ffdf00',\n",
       " '#ffd000',\n",
       " '#ffc000',\n",
       " '#ffa000',\n",
       " '#ff8b00',\n",
       " '#ff8000',\n",
       " '#ff7500',\n",
       " '#ff6000']"
      ]
     },
     "execution_count": 121,
     "metadata": {},
     "output_type": "execute_result"
    }
   ],
   "source": [
    "dj_datamap(df, 'y17', colors, legend='radiation with shadows', datanum=None, binmin=550, binmax=1450, binstep=9, colortype='step')"
   ]
  },
  {
   "cell_type": "markdown",
   "metadata": {},
   "source": [
    "Note : the `html` file is about 70 MB, where `png` file is only about 640 KB.  "
   ]
  },
  {
   "cell_type": "code",
   "execution_count": 123,
   "metadata": {},
   "outputs": [],
   "source": [
    "colors = ['deepskyblue', 'blue', 'navy']"
   ]
  },
  {
   "cell_type": "code",
   "execution_count": 124,
   "metadata": {},
   "outputs": [
    {
     "name": "stdout",
     "output_type": "stream",
     "text": [
      "#00bfff\n",
      "#0060ff\n",
      "#0000ff\n",
      "#0000c0\n",
      "#000080\n"
     ]
    },
    {
     "data": {
      "image/png": "[encoded data removed]",
      "text/plain": [
       "<Figure size 576x360 with 1 Axes>"
      ]
     },
     "metadata": {
      "needs_background": "light"
     },
     "output_type": "display_data"
    }
   ],
   "source": [
    "%matplotlib inline\n",
    "\n",
    "n = 200\n",
    "fig, ax = plt.subplots(figsize=(8, 5))\n",
    "for x in range(n+1):\n",
    "    color = add_color(colors[0],colors[1],colors[2], x/n)\n",
    "    if x in [0, 50, 100, 150, 200]:\n",
    "        print(color)\n",
    "    ax.axvline(x, color=color, linewidth=4) \n",
    "plt.show()"
   ]
  },
  {
   "cell_type": "code",
   "execution_count": 125,
   "metadata": {},
   "outputs": [
    {
     "data": {
      "image/png": "[encoded data removed]",
      "text/plain": [
       "<Figure size 144x288 with 22 Axes>"
      ]
     },
     "metadata": {},
     "output_type": "display_data"
    },
    {
     "data": {
      "text/plain": [
       "['#00bfff',\n",
       " '#0084ff',\n",
       " '#0065ff',\n",
       " '#004cff',\n",
       " '#0023ff',\n",
       " '#0000f1',\n",
       " '#0000d5',\n",
       " '#0000b8',\n",
       " '#00009c',\n",
       " '#000080']"
      ]
     },
     "execution_count": 125,
     "metadata": {},
     "output_type": "execute_result"
    }
   ],
   "source": [
    "dj_datamap(df, 'shadow', colors, legend='shadow', datanum=None, binmin=0, binmax=1000, binstep=10, colortype='step')"
   ]
  },
  {
   "cell_type": "code",
   "execution_count": 12,
   "metadata": {},
   "outputs": [],
   "source": [
    "df['buld_elev'].sort_values(ascending=False)\n",
    "df = df.loc[df['buld_elev'] < 350]"
   ]
  },
  {
   "cell_type": "code",
   "execution_count": 15,
   "metadata": {},
   "outputs": [
    {
     "data": {
      "text/plain": [
       "60780     40\n",
       "81842     39\n",
       "109500    39\n",
       "23403     36\n",
       "44697     36\n",
       "          ..\n",
       "108967     0\n",
       "45267      0\n",
       "132813     0\n",
       "83990      0\n",
       "140558     0\n",
       "Name: gro_flo_co, Length: 147741, dtype: object"
      ]
     },
     "execution_count": 15,
     "metadata": {},
     "output_type": "execute_result"
    }
   ],
   "source": [
    "df['gro_flo_co'].sort_values(ascending=False)\n",
    "df = df.loc[df['gro_flo_co'] <= 40]\n",
    "df['gro_flo_co'].sort_values(ascending=False)"
   ]
  },
  {
   "cell_type": "code",
   "execution_count": 25,
   "metadata": {},
   "outputs": [],
   "source": [
    "df['shadow'] = df['st_y17'] - df['y17']"
   ]
  },
  {
   "cell_type": "markdown",
   "metadata": {},
   "source": [
    "##### 3.4. Function : Distribution Visualization"
   ]
  },
  {
   "cell_type": "code",
   "execution_count": 5,
   "metadata": {},
   "outputs": [
    {
     "name": "stdout",
     "output_type": "stream",
     "text": [
      "Linux\n",
      "버전:  3.1.1\n",
      "설치 위치:  /home/jehyun/anaconda3/envs/geocoding/lib/python3.7/site-packages/matplotlib/__init__.py\n",
      "설정 위치:  /home/jehyun/.config/matplotlib\n",
      "캐시 위치:  /home/jehyun/.cache/matplotlib\n",
      "설정 파일 위치:  /home/jehyun/anaconda3/envs/geocoding/lib/python3.7/site-packages/matplotlib/mpl-data/matplotlibrc\n",
      "NanumGothic\n"
     ]
    }
   ],
   "source": [
    "import seaborn as sns\n",
    "sns.set(style='whitegrid')\n",
    "sns.set(font_scale=1)\n",
    "\n",
    "import platform\n",
    "system = platform.system()\n",
    "print(system)\n",
    "\n",
    "# -*- coding: UTF-8 -*-\n",
    "%matplotlib inline  \n",
    "\n",
    "import matplotlib as mpl  # 기본 설정 만지는 용도\n",
    "import matplotlib.pyplot as plt  # 그래프 그리는 용도\n",
    "import matplotlib.font_manager as fm  # 폰트 관련 용도\n",
    "\n",
    "print ('버전: ', mpl.__version__)\n",
    "print ('설치 위치: ', mpl.__file__)\n",
    "print ('설정 위치: ', mpl.get_configdir())\n",
    "print ('캐시 위치: ', mpl.get_cachedir())\n",
    "print ('설정 파일 위치: ', mpl.matplotlib_fname())\n",
    "font_list = fm.findSystemFonts(fontpaths=None, fontext='ttf')\n",
    "\n",
    "if system == 'Windows':\n",
    "    datapath = os.getcwd() + '\\\\'\n",
    "    imagepath = datapath + 'images\\\\'\n",
    "\n",
    "    # ttf 폰트 전체개수\n",
    "    print(len(font_list))\n",
    "    font_list[:10]\n",
    "\n",
    "    f = [f.name for f in fm.fontManager.ttflist]\n",
    "    print(len(font_list))\n",
    "    f[:10]\n",
    "\n",
    "    [(f.name, f.fname) for f in fm.fontManager.ttflist if 'Nanum' in f.name]\n",
    "\n",
    "    path = 'C:\\\\Windows\\\\Fonts\\\\NanumBarunGothic.ttf'\n",
    "    font_name = fm.FontProperties(fname=path, size=50).get_name()\n",
    "\n",
    "    print(font_name)\n",
    "    plt.rc('font', family=font_name)\n",
    "  \n",
    "elif system == 'Linux':\n",
    "    datapath = os.getcwd() + '//'\n",
    "    imagepath = datapath + 'images//'\n",
    "\n",
    "#     !apt-get update -qq\n",
    "#     !apt-get install fonts-nanum* -qq\n",
    "\n",
    "    path = '/usr/share/fonts/truetype/nanum/NanumGothic.ttf'  # 설치된 나눔글꼴중 원하는 녀석의 전체 경로를 가져오자\n",
    "    font_name = fm.FontProperties(fname=path, size=10).get_name()\n",
    "\n",
    "    print(font_name)\n",
    "    plt.rc('font', family=font_name)\n",
    "\n",
    "    fm._rebuild()\n",
    "    mpl.rcParams['axes.unicode_minus'] = False\n",
    "  \n",
    "else:\n",
    "    print('# Sorry, my code has compatibility with Windows and Linux only.')\n",
    "    exit(0)"
   ]
  },
  {
   "cell_type": "code",
   "execution_count": 6,
   "metadata": {},
   "outputs": [
    {
     "data": {
      "image/png": "[encoded data removed]",
      "text/plain": [
       "<Figure size 720x72 with 1 Axes>"
      ]
     },
     "metadata": {},
     "output_type": "display_data"
    }
   ],
   "source": [
    "# Figure style setting\n",
    "sns.set_style('whitegrid')\n",
    "sns.palplot(sns.color_palette('muted'))\n",
    "sns.set_context(\"talk\")\n",
    "plt.rc('font', family=font_name)\n",
    "fm._rebuild()\n",
    "mpl.rcParams['axes.unicode_minus'] = False"
   ]
  },
  {
   "cell_type": "code",
   "execution_count": 32,
   "metadata": {},
   "outputs": [],
   "source": [
    "import numpy as np\n",
    "def dist_plot(df, xk, xv):\n",
    "\n",
    "    fig, ax = plt.subplots(figsize=(6,6))\n",
    "    f = sns.distplot(df[xk], kde=False, rug=False)\n",
    "\n",
    "    if xv == '건물 넓이':\n",
    "        f.set(yscale='log')\n",
    "\n",
    "    mean_val = df[xk].mean()\n",
    "    std_val = df[xk].std()\n",
    "    max_val = df[xk].max()\n",
    "    min_val = df[xk].min()\n",
    "    \n",
    "    print('{}: mean= {:.2f}, st.dev.= {:.2f}, min= {:.2f}, max= {:.2f}'.format(xk, mean_val, std_val, min_val, max_val))\n",
    "\n",
    "#     fig.text(0.3,0.8, '     mean : {:>3.02f}'.format(mean_val), fontsize=16)\n",
    "#     fig.text(0.3,0.75, '        std : {:>3.02f}'.format(std_val), fontsize=16)\n",
    "#     fig.text(0.3,0.7, '       max : {:>3.02f}'.format(max_val), fontsize=16)\n",
    "#     fig.text(0.3,0.65, '       min : {:>3.02f}'.format(min_val), fontsize=16)\n",
    "\n",
    "    # The most frequent bin\n",
    "    heights = [h.get_height() for h in f.patches]\n",
    "    index_max = np.argmax(heights)\n",
    "#     max_x = f.patches[index_max].get_x() + np.array([0, f.patches[index_max].get_width()/2])\n",
    "#     fig.text(0.3,0.6, 'max bin : {:>.02f}~{:>.02f}'.format(max_x[0], max_x[1]), fontsize=16, color='blue')\n",
    "#     f.patches[index_max].set_color('blue')\n",
    "\n",
    "    f.set(xlabel=xv)\n",
    "    plt.tight_layout()\n",
    "    f.figure.savefig('./images/distrib_{}.png'.format(xv))"
   ]
  },
  {
   "cell_type": "code",
   "execution_count": 35,
   "metadata": {},
   "outputs": [],
   "source": [
    "xs = {\n",
    "    'gro_flo_co' : '지상 층수',\n",
    "    'buld_area' : '건물 넓이',\n",
    "    'buld_elev' : '건물 표고',\n",
    "    'y17' : '음영반영 일사량',\n",
    "    'st_y17': '위성일사량',\n",
    "    'shadow': '음영 기인 일사량 손실'\n",
    "}"
   ]
  },
  {
   "cell_type": "code",
   "execution_count": 36,
   "metadata": {},
   "outputs": [
    {
     "name": "stdout",
     "output_type": "stream",
     "text": [
      "gro_flo_co: mean= 2.22, st.dev.= 2.61, min= 0.00, max= 40.00\n",
      "buld_area: mean= 186.51, st.dev.= 773.33, min= 0.09, max= 130409.55\n",
      "buld_elev: mean= 64.72, st.dev.= 24.00, min= 0.00, max= 347.80\n",
      "y17: mean= 1080.84, st.dev.= 146.16, min= 0.00, max= 1457.28\n",
      "st_y17: mean= 1445.17, st.dev.= 7.22, min= 1429.47, max= 1482.60\n",
      "shadow: mean= 364.33, st.dev.= 145.11, min= -0.00, max= 1455.12\n"
     ]
    },
    {
     "data": {
      "image/png": "[encoded data removed]",
      "text/plain": [
       "<Figure size 432x432 with 1 Axes>"
      ]
     },
     "metadata": {},
     "output_type": "display_data"
    },
    {
     "data": {
      "image/png": "[encoded data removed]",
      "text/plain": [
       "<Figure size 432x432 with 1 Axes>"
      ]
     },
     "metadata": {},
     "output_type": "display_data"
    },
    {
     "data": {
      "image/png": "[encoded data removed]",
      "text/plain": [
       "<Figure size 432x432 with 1 Axes>"
      ]
     },
     "metadata": {},
     "output_type": "display_data"
    },
    {
     "data": {
      "image/png": "[encoded data removed]",
      "text/plain": [
       "<Figure size 432x432 with 1 Axes>"
      ]
     },
     "metadata": {},
     "output_type": "display_data"
    },
    {
     "data": {
      "image/png": "[encoded data removed]",
      "text/plain": [
       "<Figure size 432x432 with 1 Axes>"
      ]
     },
     "metadata": {},
     "output_type": "display_data"
    },
    {
     "data": {
      "image/png": "[encoded data removed]",
      "text/plain": [
       "<Figure size 432x432 with 1 Axes>"
      ]
     },
     "metadata": {},
     "output_type": "display_data"
    }
   ],
   "source": [
    "for xk, xv in xs.items():\n",
    "    dist_plot(df, xk, xv)"
   ]
  },
  {
   "cell_type": "code",
   "execution_count": 37,
   "metadata": {},
   "outputs": [
    {
     "name": "stdout",
     "output_type": "stream",
     "text": [
      "3169\n",
      "0.021447811903569446\n"
     ]
    }
   ],
   "source": [
    "flo_1 = df[df['gro_flo_co'] >= 10].shape[0]\n",
    "print(flo_1)\n",
    "\n",
    "print(flo_1/147754)"
   ]
  },
  {
   "cell_type": "code",
   "execution_count": 149,
   "metadata": {},
   "outputs": [],
   "source": [
    "df['gro_flo_co'] = df['gro_flo_co'].astype('int')"
   ]
  },
  {
   "cell_type": "code",
   "execution_count": 167,
   "metadata": {},
   "outputs": [
    {
     "data": {
      "text/markdown": [
       "(index)|emd_nm|gro_flo_co\n",
       "---|---|---\n",
       "41|둔산동|7.172992056487202\n",
       "74|상대동|5.718100890207715\n",
       "57|법동|5.316666666666666\n",
       "39|도안동|4.95405819295559\n",
       "148|지족동|4.7233368532206965\n",
       "10|관평동|4.672991071428571\n",
       "43|만년동|4.549367088607595\n",
       "62|봉명동|4.376452362509682\n",
       "122|원신흥동|4.239350912778905\n",
       "144|죽동|4.060137457044673\n",
       "9|관저동|4.042310821806347\n",
       "125|월평동|3.8424864212432106\n",
       "8|계산동|3.672176308539945\n",
       "88|송촌동|3.3854827343199436\n",
       "5|갈마동|3.330563583815029\n",
       "26|노은동|3.29375\n",
       "2|가오동|3.253481894150418\n",
       "59|복수동|3.2240802675585285\n",
       "154|탄방동|3.216245883644347\n",
       "19|궁동|3.1150442477876106\n",
       "93|신성동|2.9986301369863013\n",
       "34|덕명동|2.878727634194831\n",
       "47|목상동|2.841726618705036\n",
       "116|용전동|2.836824159766196\n",
       "152|추목동|2.834710743801653\n",
       "23|낭월동|2.8219484882418815\n",
       "37|도룡동|2.7635574837310197\n",
       "156|태평동|2.7474798387096775\n",
       "114|용산동|2.7291666666666665\n",
       "103|어은동|2.697947214076246\n",
       "106|오류동|2.675903614457831\n",
       "147|중촌동|2.6325301204819276\n",
       "65|비래동|2.577058409570725\n",
       "68|사정동|2.535885167464115\n",
       "78|석봉동|2.514519056261343\n",
       "86|송강동|2.490084985835694\n",
       "46|목동|2.4764150943396226\n",
       "159|하기동|2.4742990654205608\n",
       "30|대성동|2.4655172413793105\n",
       "146|중리동|2.4596055979643765\n",
       "150|천동|2.4551020408163264\n",
       "79|선화동|2.4190871369294604\n",
       "163|홍도동|2.401812688821752\n",
       "127|은행동|2.3708920187793425\n",
       "131|인동|2.362876254180602\n",
       "145|중동|2.3496932515337425\n",
       "115|용운동|2.3403284671532845\n",
       "138|전민동|2.336829836829837\n",
       "52|문화동|2.322210987529491\n",
       "12|괴정동|2.3208955223880596\n",
       "54|반석동|2.310483870967742\n",
       "165|효동|2.2757475083056478\n",
       "132|자양동|2.2448579823702253\n",
       "33|대흥동|2.2303511705685617\n",
       "49|문지동|2.206896551724138\n",
       "157|판암동|2.1771501925545573\n",
       "13|교촌동|2.1648351648351647\n",
       "120|원내동|2.1484942886812046\n",
       "134|장대동|2.1453615777940103\n",
       "35|덕암동|2.140077821011673\n",
       "113|용문동|2.124569177744953\n",
       "112|용두동|2.1176104542626013\n",
       "1|가양동|2.099722479185939\n",
       "69|산성동|2.0841983852364474\n",
       "121|원동|2.0710059171597632\n",
       "38|도마동|2.0618948824343013\n",
       "17|구암동|2.0092997811816193\n",
       "80|성남동|1.989888238424694\n",
       "27|대동|1.9800488599348534\n",
       "126|유천동|1.942363112391931\n",
       "97|신탄진동|1.9275862068965517\n",
       "63|봉산동|1.9190031152647975\n",
       "3|가장동|1.8772226926333615\n",
       "72|삼성동|1.8743550834597875\n",
       "109|와동|1.8680555555555556\n",
       "107|오정동|1.8241515002459419\n",
       "99|신흥동|1.800920598388953\n",
       "24|내동|1.7912162162162162\n",
       "139|정동|1.7538726333907058\n",
       "128|읍내동|1.7516778523489933\n",
       "56|방현동|1.75\n",
       "64|부사동|1.7370390165686798\n",
       "108|옥계동|1.733231707317073\n",
       "29|대사동|1.7313432835820894\n",
       "4|가정동|1.7252747252747254\n",
       "161|학하동|1.7164634146341464\n",
       "101|안영동|1.7119565217391304\n",
       "0|가수원동|1.692657077971234\n",
       "155|탑립동|1.6917808219178083\n",
       "50|문창동|1.6846846846846846\n",
       "162|호동|1.675745784695201\n",
       "140|정림동|1.654320987654321\n",
       "77|석교동|1.629737609329446\n",
       "7|갑동|1.6095238095238096\n",
       "95|신일동|1.5833333333333333\n",
       "58|변동|1.5784438775510203\n",
       "32|대화동|1.5670103092783505\n",
       "51|문평동|1.5188172043010753\n",
       "16|구성동|1.5081967213114753\n",
       "133|자운동|1.5060240963855422\n",
       "91|신봉동|1.4912280701754386\n",
       "14|구도동|1.48125\n",
       "75|상서동|1.4321133412042504\n",
       "104|연축동|1.3941368078175895\n",
       "89|신대동|1.3789237668161436\n",
       "60|복용동|1.3644524236983842\n",
       "111|용계동|1.3276904474002418\n",
       "158|평촌동|1.3194254445964433\n",
       "31|대정동|1.3164893617021276\n",
       "73|삼정동|1.276470588235294\n",
       "28|대별동|1.2727272727272727\n",
       "84|소제동|1.2393939393939395\n",
       "160|하소동|1.2240896358543418\n",
       "94|신안동|1.2135338345864661\n",
       "164|화암동|1.1818181818181819\n",
       "124|원촌동|1.1535087719298245\n",
       "110|외삼동|1.1362229102167183\n",
       "76|상소동|1.1222222222222222\n",
       "129|이사동|1.1217391304347826\n",
       "53|미호동|1.1209677419354838\n",
       "135|장동|1.0957446808510638\n",
       "151|추동|1.0933333333333333\n",
       "142|주산동|1.0901639344262295\n",
       "6|갈전동|1.0888888888888888\n",
       "45|목달동|1.08843537414966\n",
       "66|비룡동|1.0871369294605808\n",
       "83|세천동|1.0793269230769231\n",
       "92|신상동|1.0783410138248848\n",
       "118|용호동|1.0782608695652174\n",
       "100|안산동|1.0778210116731517\n",
       "98|신하동|1.0727272727272728\n",
       "137|장척동|1.064102564102564\n",
       "143|주촌동|1.0625\n",
       "42|마산동|1.0595238095238095\n",
       "153|침산동|1.0548780487804879\n",
       "71|삼괴동|1.0545454545454545\n",
       "87|송정동|1.0541310541310542\n",
       "82|세동|1.050131926121372\n",
       "167|흑석동|1.0472589792060492\n",
       "96|신촌동|1.0441176470588236\n",
       "18|구완동|1.0441176470588236\n",
       "102|어남동|1.0431654676258992\n",
       "130|이현동|1.043103448275862\n",
       "36|덕진동|1.0425531914893618\n",
       "48|무수동|1.0340909090909092\n",
       "85|소호동|1.0333333333333334\n",
       "21|금동|1.0315789473684212\n",
       "166|효평동|1.0291666666666666\n",
       "141|정생동|1.0200803212851406\n",
       "67|사성동|1.0196078431372548\n",
       "81|성북동|1.0182555780933062\n",
       "22|금탄동|1.018181818181818\n",
       "55|방동|1.0159817351598173\n",
       "117|용촌동|1.0081967213114753\n",
       "15|구룡동|1.0075757575757576\n",
       "11|괴곡동|1.0061919504643964\n",
       "136|장안동|1.0033222591362125\n",
       "44|매노동|1.002808988764045\n",
       "25|내탑동|1.0\n",
       "40|둔곡동|1.0\n",
       "90|신동|1.0\n",
       "20|금고동|1.0\n",
       "149|직동|0.9908256880733946\n",
       "70|산직동|0.9901639344262295\n",
       "123|원정동|0.9845814977973568\n",
       "61|봉곡동|0.98\n",
       "105|오동|0.9782608695652174\n",
       "119|우명동|0.9620253164556962\n"
      ],
      "text/plain": [
       "<IPython.core.display.Markdown object>"
      ]
     },
     "metadata": {},
     "output_type": "display_data"
    }
   ],
   "source": [
    "df_dong = pd.DataFrame(df.groupby('emd_nm').sum()/df.groupby('emd_nm').count())\n",
    "df_dong = df_dong.reset_index(drop=False)\n",
    "df_dong.sort_values(by='gro_flo_co', inplace=True, ascending=False)\n",
    "df2md(df_dong[['emd_nm', 'gro_flo_co']])"
   ]
  }
 ],
 "metadata": {
  "kernelspec": {
   "display_name": "geocoding",
   "language": "python",
   "name": "geocoding"
  },
  "language_info": {
   "codemirror_mode": {
    "name": "ipython",
    "version": 3
   },
   "file_extension": ".py",
   "mimetype": "text/x-python",
   "name": "python",
   "nbconvert_exporter": "python",
   "pygments_lexer": "ipython3",
   "version": "3.7.3"
  }
 },
 "nbformat": 4,
 "nbformat_minor": 4
}
