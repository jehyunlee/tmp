{
 "cells": [
  {
   "cell_type": "markdown",
   "metadata": {},
   "source": [
    "### Visualization of individual data on map with `folium`, `geoJSON` and `pandas DataFrame`"
   ]
  },
  {
   "cell_type": "markdown",
   "metadata": {},
   "source": [
    "#### 1. Preparation\n",
    "##### 1.1. Load `folium`\n",
    "> official `github` : https://github.com/python-visualization/folium  \n",
    "> documentation : https://python-visualization.github.io/folium/index.html  \n",
    "> examples : https://nbviewer.jupyter.org/github/python-visualization/folium/tree/master/examples/  \n",
    "> plugins : https://python-visualization.github.io/folium/plugins.html#folium-plugins  \n",
    "> * sample 1 : https://dailyheumsi.tistory.com/85?category=815369  \n",
    "> * sample 2 : https://dailyheumsi.tistory.com/92?category=815369  \n",
    "  \n",
    "> contributions : https://nbviewer.jupyter.org/github/python-visualization/folium_contrib/tree/master/notebooks/  "
   ]
  },
  {
   "cell_type": "code",
   "execution_count": 1,
   "metadata": {},
   "outputs": [],
   "source": [
    "import folium"
   ]
  },
  {
   "cell_type": "markdown",
   "metadata": {},
   "source": [
    "##### 1.2. Function: capture `html` to `png`  \n",
    "* This case is for `Firefox`.  \n",
    "```python\n",
    "browser = webdriver.Firefox()\n",
    "```  \n",
    "should be modified according to the browser.  \n",
    "* Since the size of `html` is too large sometimes, `png` is preferred.  \n",
    "* Large `html` file exceeds the maximum waiting time for rendering.\n",
    "  - in this case, edit `browser.set_page_load_timeout(time_in_seconds)` part with larger number"
   ]
  },
  {
   "cell_type": "code",
   "execution_count": 3,
   "metadata": {},
   "outputs": [],
   "source": [
    "from selenium import webdriver\n",
    "import time, os\n",
    "\n",
    "!export PATH=\"/home/jehyun/PycharmProjects/selenium/:$PATH\"\n",
    "\n",
    "def html2png(m,                     # foium map instance\n",
    "             html_name,             # str. ex. 'testmap.html'\n",
    "             png_name='map.png',    # str. ex. 'testmap.png'\n",
    "             delay=5,               # int or float. ex. 10\n",
    "             ):\n",
    "\n",
    "    delay=delay\n",
    "    fn = 'html/' + html_name\n",
    "    tmpurl='file://{path}/{mapfile}'.format(path=os.getcwd(),mapfile=fn)\n",
    "    m.save(fn)\n",
    "\n",
    "    browser = webdriver.Firefox()\n",
    "\n",
    "    try:\n",
    "        browser.set_page_load_timeout(600)\n",
    "        browser.get(tmpurl)\n",
    "        \n",
    "    except TimeoutException as ex:\n",
    "        isrunning = 0\n",
    "        print(\"Exception has been thrown. \" + str(ex))\n",
    "        browser.close()\n",
    "\n",
    "    #Give the map tiles some time to load\n",
    "    time.sleep(delay)\n",
    "    browser.save_screenshot('./images/'+png_name)\n",
    "    browser.quit()"
   ]
  },
  {
   "cell_type": "markdown",
   "metadata": {},
   "source": [
    "##### 1.3. Function : `pandas DataFrame` to `markdown`"
   ]
  },
  {
   "cell_type": "code",
   "execution_count": 4,
   "metadata": {},
   "outputs": [],
   "source": [
    "# Nice representation of dataframe in markdown\n",
    "import pandas as pd\n",
    "import copy\n",
    "from IPython.display import Markdown, display\n",
    "\n",
    "def df2md(df, maxlen=20):\n",
    "    _df = copy.deepcopy(df)\n",
    "    \n",
    "    for col in _df.columns:\n",
    "        _df[col] = _df[col].astype('str')\n",
    "        if (_df[col].str.len()> maxlen).any() :\n",
    "            _df[col].loc[_df[col].str.len() > maxlen] = _df[col].str.slice(stop=maxlen) + ' ...'\n",
    "\n",
    "    if '(index)' not in _df.columns:\n",
    "        _df.insert(0, '(index)', df.index)\n",
    "        \n",
    "    fmt = ['---' for i in range(len(_df.columns))]\n",
    "    df_fmt = pd.DataFrame([fmt], columns=_df.columns)\n",
    "    df_formatted = pd.concat([df_fmt, _df])\n",
    "    display(Markdown(df_formatted.to_csv(sep=\"|\", index=False)))\n",
    "    _df.drop(columns='(index)', axis=1, inplace=True)"
   ]
  },
  {
   "cell_type": "markdown",
   "metadata": {},
   "source": [
    "#### 2. Load Data\n",
    "##### 2.1. Solar Radiation data on each buildings in Daejeon"
   ]
  },
  {
   "cell_type": "code",
   "execution_count": 5,
   "metadata": {},
   "outputs": [
    {
     "data": {
      "text/markdown": [
       "(index)|gid|buld_se_cd|buld_se_nm|bdtyp_cd|apt_yn|gro_flo_co|sig_cd|sig_nm|emd_cd|emd_nm|tm_x|tm_y|lon|lat|buld_area|buld_elev|m01|m02|m03|m04|m05|m06|m07|m08|m09|m10|m11|m12|y17|st_m01|st_m02|st_m03|st_m04|st_m05|st_m06|st_m07|st_m08|st_m09|st_m10|st_m11|st_m12|st_y17\n",
       "---|---|---|---|---|---|---|---|---|---|---|---|---|---|---|---|---|---|---|---|---|---|---|---|---|---|---|---|---|---|---|---|---|---|---|---|---|---|---|---|---|---|---\n",
       "0|24300|0|지상|4299|N|1|30110|동구|30110137|대별동|241302.419829207|409864.414379324|127.459746194608|36.2858798245272|199.109760164108|80|61.587998174704|76.368132857176|108.372413947032|130.399191728005|153.301471581826|138.981246232986|94.1192299952874|116.160557618508|107.075909293615|76.0582836270332|63.2461349872442|57.7913106771616|1183.46187899663|77.4414291381836|97.5647354125977|136.456909179688|159.853820800781|181.146118164063|161.53076171875|109.31169128418|138.931045532227|133.254684448242|95.6145782470703|80.3922271728516|72.975700378418|1444.47375488281\n",
       "1|16295|0|지상|1001|N|1|30110|동구|30110105|가오동|240815.01297069|412384.958080419|127.454452653456|36.3086147051094|77.3923177693719|71|54.6587660438136|74.3240604024184|109.983418941498|131.021371841431|148.915192252711|136.026762912148|91.4622986442164|112.346493419848|109.010571178637|75.9642522084086|59.7529277174096|48.7103261571181|1152.17643617329|77.5996551513672|96.7234191894531|136.413635253906|159.390518188477|180.87614440918|165.518310546875|112.231346130371|137.366897583008|134.195907592773|96.3771133422852|79.9522476196289|72.7179718017578|1449.36315917969\n",
       "2|24341|0|지상|1001|N|1|30110|동구|30110137|대별동|241460.822383503|410090.94543095|127.461521377075|36.2879144426327|91.0763856790575|77|62.304043189339|78.0388102324113|110.389678457509|130.250699416451|150.068157859471|135.022302627563|92.2708638232687|114.937465916509|108.497603748156|77.568351952926|64.5584099811056|58.3052325248718|1182.21162281866|77.4414291381836|97.5647354125977|136.456909179688|159.853820800781|181.146118164063|161.53076171875|109.31169128418|138.931045532227|133.254684448242|95.6145782470703|80.3922271728516|72.975700378418|1444.47375488281\n",
       "3|24345|0|지상|4402|N|1|30110|동구|30110137|대별동|241530.22297262|410067.763074595|127.462292655181|36.2877025481814|51.2017056163047|78|48.6805400936692|60.6419043452651|86.4692395528158|105.063324045252|123.864551473547|112.271188029536|75.3915986661558|93.4298842041581|85.6682357434873|60.3520038746021|50.0022062372278|45.6562534349936|947.490926106771|77.4414291381836|97.5647354125977|136.456909179688|159.853820800781|181.146118164063|161.53076171875|109.31169128418|138.931045532227|133.254684448242|95.6145782470703|80.3922271728516|72.975700378418|1444.47375488281\n",
       "4|24374|0|지상|18999|N|1|30110|동구|30110137|대별동|241500.967910986|409605.204042476|127.461942445015|36.2835354035404|455.844166700596|80|67.2504756116031|84.0601618833709|119.429690775118|141.218664905481|162.556833049707|146.167080444202|99.8334377941332|124.410167208889|117.419092797396|83.4298420412499|69.2576492167356|62.8880742809229|1277.92121626201|77.4414291381836|97.5647354125977|136.456909179688|159.853820800781|181.146118164063|161.53076171875|109.31169128418|138.931045532227|133.254684448242|95.6145782470703|80.3922271728516|72.975700378418|1444.47375488281\n"
      ],
      "text/plain": [
       "<IPython.core.display.Markdown object>"
      ]
     },
     "metadata": {},
     "output_type": "display_data"
    }
   ],
   "source": [
    "df = pd.read_excel('NGL.xlsx')\n",
    "df.drop(index=0, inplace=True)\n",
    "df.reset_index(drop=True, inplace=True)\n",
    "df2md(df.head())"
   ]
  },
  {
   "cell_type": "markdown",
   "metadata": {},
   "source": [
    "##### 2.2. `JSON` files for Administrative districts"
   ]
  },
  {
   "cell_type": "code",
   "execution_count": 6,
   "metadata": {},
   "outputs": [],
   "source": [
    "# 'gu' and dong' data in Korea\n",
    "gu = f'https://raw.githubusercontent.com/jehyunlee/data-snippet/master/Korea_gu_20.json' \n",
    "dong = f'https://raw.githubusercontent.com/jehyunlee/data-snippet/master/Korea_dong_20.json' "
   ]
  },
  {
   "cell_type": "markdown",
   "metadata": {},
   "source": [
    "###### 2.2.1. Function : Load `JSON` from web"
   ]
  },
  {
   "cell_type": "code",
   "execution_count": 7,
   "metadata": {},
   "outputs": [],
   "source": [
    "import json\n",
    "import urllib.request\n",
    "\n",
    "def read_webjson(url):\n",
    "  with urllib.request.urlopen(url) as src:\n",
    "    data = json.loads(src.read().decode(), encoding='utf-8')\n",
    "    return data "
   ]
  },
  {
   "cell_type": "markdown",
   "metadata": {},
   "source": [
    "###### 2.2.2. Load `JSON` from web(gu) and local(dong)"
   ]
  },
  {
   "cell_type": "code",
   "execution_count": 8,
   "metadata": {},
   "outputs": [],
   "source": [
    "gu_data = read_webjson(gu)    # read 'gu' json from data-snippet\n",
    "\n",
    "# read 'dong'\n",
    "# For unknown reason, it is not possible to read from web.\n",
    "dong_data = json.loads(open('./geojsons/Korea_dong_20.json', 'r', encoding='utf-8').read())"
   ]
  },
  {
   "cell_type": "markdown",
   "metadata": {},
   "source": [
    "###### 2.2.3. Data Validataion"
   ]
  },
  {
   "cell_type": "code",
   "execution_count": 9,
   "metadata": {},
   "outputs": [
    {
     "name": "stdout",
     "output_type": "stream",
     "text": [
      "# of \"gu\"s in Daejeon = 5\n",
      "['동구', '중구', '서구', '유성구', '대덕구']\n"
     ]
    }
   ],
   "source": [
    "# Extracting 'gu' data from JSON\n",
    "gu_dj = {}\n",
    "gu_dj_value = []\n",
    "SIG_KOR_NM = []    # list of 'gu's\n",
    "\n",
    "for key, value in gu_data.items():\n",
    "  if key != 'features':\n",
    "    gu_dj.update({key: value})\n",
    "  else:\n",
    "    for feature in gu_data['features']:\n",
    "      properties = feature['properties']\n",
    "      sig_cd = properties['SIG_CD']\n",
    "      if sig_cd[:2] == '30':\n",
    "        SIG_KOR_NM.append(properties['SIG_KOR_NM'])\n",
    "        gu_dj_value.append(feature)\n",
    "gu_dj['features'] = gu_dj_value\n",
    "        \n",
    "print('# of \"gu\"s in Daejeon = {}'.format(len(SIG_KOR_NM)))\n",
    "print(SIG_KOR_NM)        \n",
    "\n",
    "# save list of 'gu's in json format\n",
    "with open(\"gu_dj.json\",\"w\", encoding='utf-8') as jsonfile:\n",
    "        json.dump(gu_dj,jsonfile,ensure_ascii=False)"
   ]
  },
  {
   "cell_type": "code",
   "execution_count": 10,
   "metadata": {},
   "outputs": [
    {
     "name": "stdout",
     "output_type": "stream",
     "text": [
      "# of \"dong\"s in Daejeon(JSON) = 177\n",
      "['가수원동', '가양동', '가오동', '가장동', '가정동', '갈마동', '갈전동', '갑동', '계산동', '관저동', '관평동', '괴곡동', '괴정동', '교촌동', '구도동', '구룡동', '구성동', '구암동', '구완동', '궁동', '금고동', '금동', '금탄동', '낭월동', '내동', '내탑동', '노은동', '대동', '대동', '대별동', '대사동', '대성동', '대정동', '대화동', '대흥동', '덕명동', '덕암동', '덕진동', '도룡동', '도마동', '도안동', '둔곡동', '둔산동', '마산동', '만년동', '매노동', '목달동', '목동', '목상동', '무수동', '문지동', '문창동', '문평동', '문화동', '미호동', '반석동', '방동', '방현동', '법동', '변동', '복수동', '복용동', '봉곡동', '봉명동', '봉산동', '부사동', '부수동', '비래동', '비룡동', '사성동', '사정동', '산성동', '산직동', '삼괴동', '삼성동', '삼정동', '삼정동', '상대동', '상서동', '상소동', '석교동', '석봉동', '선화동', '성남동', '성북동', '세동', '세천동', '소제동', '소호동', '송강동', '송정동', '송촌동', '수남동', '신대동', '신동', '신봉동', '신상동', '신성동', '신안동', '신일동', '신촌동', '신탄진동', '신하동', '신흥동', '안산동', '안영동', '어남동', '어은동', '연축동', '오동', '오동', '오류동', '오정동', '옥계동', '와동', '외삼동', '용계동', '용계동', '용두동', '용문동', '용산동', '용운동', '용전동', '용촌동', '용호동', '우명동', '원내동', '원동', '원신흥동', '원정동', '원촌동', '월평동', '유천동', '은행동', '읍내동', '이사동', '이현동', '인동', '자양동', '자운동', '장대동', '장동', '장동', '장안동', '장척동', '전민동', '정동', '정림동', '정생동', '주산동', '주촌동', '죽동', '중동', '중리동', '중촌동', '지족동', '직동', '천동', '추동', '추목동', '침산동', '탄방동', '탑립동', '태평동', '판암동', '평촌동', '평촌동', '하기동', '하소동', '학하동', '호동', '홍도동', '화암동', '황호동', '효동', '효평동', '흑석동']\n",
      "\n",
      "Duplicates are ['삼정동', '대동', '용계동', '오동', '평촌동', '장동']\n",
      "\n",
      "# of  \"dong\"s in Daejeon(JSON, unique) = 171\n",
      "['가수원동', '가양동', '가오동', '가장동', '가정동', '갈마동', '갈전동', '갑동', '계산동', '관저동', '관평동', '괴곡동', '괴정동', '교촌동', '구도동', '구룡동', '구성동', '구암동', '구완동', '궁동', '금고동', '금동', '금탄동', '낭월동', '내동', '내탑동', '노은동', '대동', '대별동', '대사동', '대성동', '대정동', '대화동', '대흥동', '덕명동', '덕암동', '덕진동', '도룡동', '도마동', '도안동', '둔곡동', '둔산동', '마산동', '만년동', '매노동', '목달동', '목동', '목상동', '무수동', '문지동', '문창동', '문평동', '문화동', '미호동', '반석동', '방동', '방현동', '법동', '변동', '복수동', '복용동', '봉곡동', '봉명동', '봉산동', '부사동', '부수동', '비래동', '비룡동', '사성동', '사정동', '산성동', '산직동', '삼괴동', '삼성동', '삼정동', '상대동', '상서동', '상소동', '석교동', '석봉동', '선화동', '성남동', '성북동', '세동', '세천동', '소제동', '소호동', '송강동', '송정동', '송촌동', '수남동', '신대동', '신동', '신봉동', '신상동', '신성동', '신안동', '신일동', '신촌동', '신탄진동', '신하동', '신흥동', '안산동', '안영동', '어남동', '어은동', '연축동', '오동', '오류동', '오정동', '옥계동', '와동', '외삼동', '용계동', '용두동', '용문동', '용산동', '용운동', '용전동', '용촌동', '용호동', '우명동', '원내동', '원동', '원신흥동', '원정동', '원촌동', '월평동', '유천동', '은행동', '읍내동', '이사동', '이현동', '인동', '자양동', '자운동', '장대동', '장동', '장안동', '장척동', '전민동', '정동', '정림동', '정생동', '주산동', '주촌동', '죽동', '중동', '중리동', '중촌동', '지족동', '직동', '천동', '추동', '추목동', '침산동', '탄방동', '탑립동', '태평동', '판암동', '평촌동', '하기동', '하소동', '학하동', '호동', '홍도동', '화암동', '황호동', '효동', '효평동', '흑석동']\n",
      "\n",
      "Missing \"dong\"s(Solar) = ['부수동', '수남동', '황호동']\n"
     ]
    }
   ],
   "source": [
    "import numpy as np\n",
    "\n",
    "# 1. Grouping 'dong' data from Solar Radiation\n",
    "\n",
    "df_dong = df.groupby(by='emd_nm').mean().reset_index()\n",
    "\n",
    "# 2. Extracting 'dong' data from JSON\n",
    "dong_dj = {}\n",
    "dong_dj_value = []\n",
    "EMD_KOR_NM = []    # list of 'dong's\n",
    "\n",
    "for key, value in dong_data.items():\n",
    "  if key != 'features':\n",
    "    dong_dj.update({key: value})\n",
    "  else:\n",
    "    for feature in dong_data['features']:\n",
    "      properties = feature['properties']\n",
    "      emd_cd = properties['EMD_CD']\n",
    "      if emd_cd[:2] == '30': # 'dong' filter : only in Daejeon\n",
    "        EMD_KOR_NM.append(properties['EMD_KOR_NM'])\n",
    "        dong_dj_value.append(feature)\n",
    "dong_dj['features'] = dong_dj_value\n",
    "\n",
    "print('# of \"dong\"s in Daejeon(JSON) = {}'.format(len(EMD_KOR_NM)))  # Wrong Value : Duplicates exist \n",
    "print(sorted(EMD_KOR_NM))  \n",
    "\n",
    "# 3. Find duplicates - geoJSON compression might have caused geometric split\n",
    "import collections\n",
    "print('\\nDuplicates are {}'.format([item for item, count in collections.Counter(EMD_KOR_NM).items() if count > 1]))\n",
    "EMD_KOR_NM = list(np.sort(np.unique(np.array(EMD_KOR_NM))))\n",
    "\n",
    "print('\\n# of  \"dong\"s in Daejeon(JSON, unique) = {}'.format(len(EMD_KOR_NM)))\n",
    "print(sorted(EMD_KOR_NM))\n",
    "\n",
    "# 4. Find missings - data from solar irradiation might have missing data\n",
    "dong_solar = df_dong['emd_nm'].unique()\n",
    "missing = []\n",
    "for dong in EMD_KOR_NM:\n",
    "  if dong not in dong_solar:\n",
    "    missing.append(dong)\n",
    "    \n",
    "print('\\nMissing \"dong\"s(Solar) = {}'.format(missing))\n",
    "\n",
    "# 5. Save list of 'dong's in json format, including duplicates,\n",
    "# because it is not important to treat them at the moment.\n",
    "with open(\"dong_dj.json\",\"w\", encoding='utf-8') as jsonfile:\n",
    "        json.dump(dong_dj,jsonfile,ensure_ascii=False)"
   ]
  },
  {
   "cell_type": "markdown",
   "metadata": {},
   "source": [
    "#### 3. Data Visualization\n",
    "> How to use colormap with `folium` marker plot : https://stackoverflow.com/questions/56876620/unsure-how-to-use-colormap-with-folium-marker-plot  \n",
    "> Colormap code-snippets : https://stackoverflow.com/questions/52911688/python-folium-choropleth-map-colors-incorrect/52981115#52981115  \n",
    "> Colormap and other code-snippets : http://incredible.ai/code-snippet/2019/03/16/GeoHash-And-GeoPandas/  \n",
    "> Color gradient code-snippets : https://stackoverflow.com/questions/25668828/how-to-create-colour-gradient-in-python  \n",
    "\n",
    "##### 3.1. Find Map Center Coordination"
   ]
  },
  {
   "cell_type": "code",
   "execution_count": 54,
   "metadata": {},
   "outputs": [],
   "source": [
    "df['shadow'] = 1 - df['y17']/df['st_y17']"
   ]
  },
  {
   "cell_type": "code",
   "execution_count": 11,
   "metadata": {},
   "outputs": [
    {
     "name": "stdout",
     "output_type": "stream",
     "text": [
      "127.4013580315068 36.340743659590096\n"
     ]
    }
   ],
   "source": [
    "# center of the map\n",
    "\n",
    "lon_avg = df['lon'].mean()\n",
    "lat_avg = df['lat'].mean()\n",
    "print(lon_avg, lat_avg)"
   ]
  },
  {
   "cell_type": "markdown",
   "metadata": {},
   "source": [
    "##### 3.2. Function : Additive Color Operation "
   ]
  },
  {
   "cell_type": "code",
   "execution_count": 12,
   "metadata": {},
   "outputs": [],
   "source": [
    "def add_color(c1, c2, c3, ipol=0):\n",
    "    c1=np.array(mpl.colors.to_rgb(c1))\n",
    "    c2=np.array(mpl.colors.to_rgb(c2))\n",
    "    c3=np.array(mpl.colors.to_rgb(c3))\n",
    "    if ipol < 0.5:\n",
    "        # if c1 and c2 are parallel\n",
    "        if np.dot(c1, c2) == np.linalg.norm(c1) * np.linalg.norm(c2):\n",
    "            c = 2*((0.5-ipol)*c1 + ipol*c2)\n",
    "        else:\n",
    "            if ipol < 0.25:\n",
    "                c = c1 + 4*ipol * c2\n",
    "            elif ipol < 0.5:\n",
    "                c = (2 - 4*ipol) * c1 + c2\n",
    "    else:\n",
    "        # if c2 and c3 are parallel\n",
    "        if np.dot(c2, c3) == np.linalg.norm(c2) * np.linalg.norm(c3):\n",
    "            c = 2*((1-ipol)*c2 + (ipol-0.5)*c3)\n",
    "        else:\n",
    "            if ipol < 0.75:\n",
    "                c = c2 + (4*ipol-2) * c3\n",
    "            else:\n",
    "                c = (4 - 4*ipol) * c2 + c3\n",
    "    \n",
    "    if c.max() > 1:\n",
    "        c = c/c.max()\n",
    "        \n",
    "    return mpl.colors.to_hex(c)"
   ]
  },
  {
   "cell_type": "markdown",
   "metadata": {},
   "source": [
    "##### 3.3. Function : Map + Admistrative Districts + Data + Customized Colormap"
   ]
  },
  {
   "cell_type": "code",
   "execution_count": 55,
   "metadata": {},
   "outputs": [],
   "source": [
    "import branca\n",
    "import branca.colormap as cm\n",
    "import random\n",
    "import matplotlib as mpl\n",
    "import matplotlib.pyplot as plt\n",
    "import numpy as np\n",
    "\n",
    "def dj_datamap(df,               # pandas DataFrame\n",
    "               col,              # column to plot in df\n",
    "               *colors,          # colors for colormap formation : [c1, c2, c3]\n",
    "               legend = None,    # legend. if None, 'col' is applied.\n",
    "               datanum = None,   # number of data to plot. if None, all data.\n",
    "               binmin = None,    # min. value of data to colorize\n",
    "               binmax = None,    # max. value of data to colorize\n",
    "               binstep = 5,      # number of bins \n",
    "               colortype = 'linear'  # 'linear' or 'step'\n",
    "              ):\n",
    "    # filename to be saved\n",
    "    filename = '{}_{}'.format(col, legend)\n",
    "    \n",
    "    # folium map\n",
    "    m = folium.Map(location=[lat_avg, lon_avg], \n",
    "                   tiles='CartoDB positron',\n",
    "                   zoom_start=11)\n",
    "\n",
    "    # style function for 'gu'\n",
    "    style_function_gu = {\n",
    "                    'opacity': 0.7,\n",
    "                    'weight':1,\n",
    "                    'fillOpacity': 1,\n",
    "                    'color': 'black',\n",
    "                    'fillColor': 'white'\n",
    "                    }\n",
    "    \n",
    "    # style function for 'dong'\n",
    "    style_function_dong = {\n",
    "                    'opacity': 0.7,\n",
    "                    'weight':1,\n",
    "                    'fillOpacity': 0,\n",
    "                    'color': 'gray',\n",
    "                    'fillColor': 'white'\n",
    "                    }\n",
    "\n",
    "    # plot: adminstrative districts 'gu'\n",
    "    folium.GeoJson(gu_dj, name='gu_dj',\n",
    "                   style_function=lambda x: style_function_gu        # style_function has to be a function which calls dictionary\n",
    "                  ).add_to(m)        # Overlay on map\n",
    "    \n",
    "    # plot : administrative districts 'dong'\n",
    "    folium.GeoJson(dong_dj, name='dong_dj',\n",
    "                   style_function=lambda x: style_function_dong        # style_function has to be a function which calls dictionary\n",
    "                  ).add_to(m)        # Overlay on map\n",
    "\n",
    "    # colormap settings\n",
    "    # - values to colorize\n",
    "    if binmin == None:\n",
    "        vmin = df[col].min()\n",
    "    else:\n",
    "        vmin = binmin\n",
    "        \n",
    "    if binmax == None:    \n",
    "        vmax = df[col].max()\n",
    "    else:\n",
    "        vmax = binmax\n",
    "    \n",
    "    # - number of data to plot\n",
    "    if datanum == None:\n",
    "        datanum = df.shape[0]\n",
    "    \n",
    "    # - colormap configuration\n",
    "    c1 = colors[0][0]\n",
    "    c2 = colors[0][1]\n",
    "    c3 = colors[0][2]\n",
    "    \n",
    "    if colortype == 'linear':\n",
    "        clrmap = cm.LinearColormap(colors=[c1, c2, c3], vmin=vmin, vmax=vmax)\n",
    "    elif colortype == 'step':\n",
    "        _colors = []\n",
    "        for i in range(binstep):\n",
    "            _colors.append(add_color(c1, c2, c3, i/(binstep-1)))\n",
    "        \n",
    "        #- colormap visualization\n",
    "        bins = np.linspace(vmin, vmax, num=binstep+1)\n",
    "    \n",
    "        fig, axes = plt.subplots(figsize=(2,4), nrows=binstep+1, ncols=2, sharex=True)\n",
    "        for i in range(binstep+1):\n",
    "            rect = axes[i][0].patch\n",
    "            rect.set_facecolor(_colors[binstep-i-1])\n",
    "            if i == binstep:\n",
    "                rect.set_alpha(0)\n",
    "            axes[i][0].set_xlabel('')\n",
    "            axes[i][0].set_ylabel('')\n",
    "            axes[i][0].set_xticks([])\n",
    "            axes[i][0].set_yticks([])\n",
    "            axes[i][0].set_xticklabels([])\n",
    "            axes[i][0].set_yticklabels([])\n",
    "            axes[i][0].spines['top'].set_visible(True)\n",
    "            axes[i][0].spines['right'].set_visible(False)\n",
    "            axes[i][0].spines['bottom'].set_visible(False)\n",
    "            axes[i][0].spines['left'].set_visible(False)\n",
    "        for i in range(binstep+1):\n",
    "            axes[i][1].text(0.1, 1, '{:2.2f}'.format(float(bins[binstep-i])), transform=axes[i][1].transAxes, fontsize=14, va='top', ha='left')\n",
    "            axes[i][1].set_xlabel('')\n",
    "            axes[i][1].set_ylabel('')\n",
    "            axes[i][1].set_xticks([])\n",
    "            axes[i][1].set_yticks([])\n",
    "            axes[i][1].set_xticklabels([])\n",
    "            axes[i][1].set_yticklabels([])\n",
    "            axes[i][1].spines['top'].set_visible(False)\n",
    "            axes[i][1].spines['right'].set_visible(False)\n",
    "            axes[i][1].spines['bottom'].set_visible(False)\n",
    "            axes[i][1].spines['left'].set_visible(False)\n",
    "            \n",
    "        plt.subplots_adjust(wspace=0, hspace=0, left=0.05, right=0.95, top=0.99, bottom=0.12)\n",
    "        #plt.tight_layout()\n",
    "        plt.savefig('./images/{}_legend.png'.format(filename))\n",
    "        plt.show()\n",
    "        \n",
    "        clrmap = cm.StepColormap(colors=_colors, vmin=vmin, vmax=vmax,\n",
    "                                index=np.linspace(vmin, vmax, binstep+1))\n",
    "    \n",
    "    # plot : data as markers (actually, dots)\n",
    "    for idx in df.index[:datanum]:\n",
    "        # Get longitude/latitude\n",
    "        lon = df.at[idx, 'lon']\n",
    "        lat = df.at[idx, 'lat']\n",
    "\n",
    "        data = df.at[idx, col]\n",
    "       \n",
    "        folium.CircleMarker(\n",
    "            location = [lat, lon],\n",
    "            color='grey',\n",
    "            fill_color=clrmap(data),\n",
    "            fill_opacity=1,\n",
    "            radius=0.5,\n",
    "            weight=0\n",
    "        ).add_to(m)\n",
    "        \n",
    "    # legend\n",
    "    if colortype == 'linear':\n",
    "        clrmap = clrmap.to_step(index=np.linspace(vmin, vmax, num=binstep))\n",
    "    elif colortype == 'step':\n",
    "        pass\n",
    "    \n",
    "    if legend == None:\n",
    "        legend = col\n",
    "    \n",
    "    clrmap.caption=legend\n",
    "    clrmap.add_to(m)\n",
    "\n",
    "    # layer control ON\n",
    "    folium.LayerControl().add_to(m)\n",
    "    \n",
    "    # save as file\n",
    "    html2png(m, '{}.html'.format(filename), '{}.png'.format(filename))\n",
    "    \n",
    "    return _colors"
   ]
  },
  {
   "cell_type": "code",
   "execution_count": null,
   "metadata": {},
   "outputs": [],
   "source": []
  },
  {
   "cell_type": "code",
   "execution_count": null,
   "metadata": {},
   "outputs": [],
   "source": []
  },
  {
   "cell_type": "code",
   "execution_count": null,
   "metadata": {},
   "outputs": [],
   "source": []
  },
  {
   "cell_type": "code",
   "execution_count": 14,
   "metadata": {},
   "outputs": [],
   "source": [
    "colors = ['#ffff00', '#ffa000', '#ff6000']"
   ]
  },
  {
   "cell_type": "code",
   "execution_count": 15,
   "metadata": {},
   "outputs": [
    {
     "name": "stdout",
     "output_type": "stream",
     "text": [
      "#ffff00\n",
      "#ffd000\n",
      "#ffa000\n",
      "#ff8000\n",
      "#ff6000\n"
     ]
    },
    {
     "data": {
      "image/png": "[encoded data removed]",
      "text/plain": [
       "<Figure size 576x360 with 1 Axes>"
      ]
     },
     "metadata": {
      "needs_background": "light"
     },
     "output_type": "display_data"
    }
   ],
   "source": [
    "%matplotlib inline\n",
    "\n",
    "n = 200\n",
    "fig, ax = plt.subplots(figsize=(8, 5))\n",
    "for x in range(n+1):\n",
    "    color = add_color(colors[0],colors[1],colors[2], x/n)\n",
    "    if x in [0, 50, 100, 150, 200]:\n",
    "        print(color)\n",
    "    ax.axvline(x, color=color, linewidth=4) \n",
    "plt.show()"
   ]
  },
  {
   "cell_type": "code",
   "execution_count": 16,
   "metadata": {},
   "outputs": [
    {
     "data": {
      "image/png": "[encoded data removed]",
      "text/plain": [
       "<Figure size 144x288 with 20 Axes>"
      ]
     },
     "metadata": {},
     "output_type": "display_data"
    },
    {
     "data": {
      "text/plain": [
       "['#ffff00',\n",
       " '#ffdf00',\n",
       " '#ffd000',\n",
       " '#ffc000',\n",
       " '#ffa000',\n",
       " '#ff8b00',\n",
       " '#ff8000',\n",
       " '#ff7500',\n",
       " '#ff6000']"
      ]
     },
     "execution_count": 16,
     "metadata": {},
     "output_type": "execute_result"
    }
   ],
   "source": [
    "dj_datamap(df, 'y17', colors, legend='radiation with shadows', datanum=None, binmin=550, binmax=1450, binstep=9, colortype='step')"
   ]
  },
  {
   "cell_type": "markdown",
   "metadata": {},
   "source": [
    "Note : the `html` file is about 70 MB, where `png` file is only about 640 KB.  "
   ]
  },
  {
   "cell_type": "code",
   "execution_count": 48,
   "metadata": {},
   "outputs": [],
   "source": [
    "colors = ['deepskyblue', 'blue', 'navy']"
   ]
  },
  {
   "cell_type": "code",
   "execution_count": 49,
   "metadata": {},
   "outputs": [
    {
     "name": "stdout",
     "output_type": "stream",
     "text": [
      "#00bfff\n",
      "#0060ff\n",
      "#0000ff\n",
      "#0000c0\n",
      "#000080\n"
     ]
    },
    {
     "data": {
      "image/png": "[encoded data removed]",
      "text/plain": [
       "<Figure size 576x360 with 1 Axes>"
      ]
     },
     "metadata": {
      "needs_background": "light"
     },
     "output_type": "display_data"
    }
   ],
   "source": [
    "%matplotlib inline\n",
    "\n",
    "n = 200\n",
    "fig, ax = plt.subplots(figsize=(8, 5))\n",
    "for x in range(n+1):\n",
    "    color = add_color(colors[0],colors[1],colors[2], x/n)\n",
    "    if x in [0, 50, 100, 150, 200]:\n",
    "        print(color)\n",
    "    ax.axvline(x, color=color, linewidth=4) \n",
    "plt.show()"
   ]
  },
  {
   "cell_type": "code",
   "execution_count": 56,
   "metadata": {},
   "outputs": [
    {
     "data": {
      "image/png": "[encoded data removed]",
      "text/plain": [
       "<Figure size 144x288 with 22 Axes>"
      ]
     },
     "metadata": {},
     "output_type": "display_data"
    },
    {
     "data": {
      "text/plain": [
       "['#00bfff',\n",
       " '#0084ff',\n",
       " '#0065ff',\n",
       " '#004cff',\n",
       " '#0023ff',\n",
       " '#0000f1',\n",
       " '#0000d5',\n",
       " '#0000b8',\n",
       " '#00009c',\n",
       " '#000080']"
      ]
     },
     "execution_count": 56,
     "metadata": {},
     "output_type": "execute_result"
    }
   ],
   "source": [
    "dj_datamap(df, 'shadow', colors, legend='shadow', datanum=None, binmin=0, binmax=1, binstep=10, colortype='step')"
   ]
  },
  {
   "cell_type": "code",
   "execution_count": 21,
   "metadata": {},
   "outputs": [
    {
     "data": {
      "image/png": "[encoded data removed]",
      "text/plain": [
       "<Figure size 144x288 with 22 Axes>"
      ]
     },
     "metadata": {},
     "output_type": "display_data"
    },
    {
     "data": {
      "text/plain": [
       "['#00bfff',\n",
       " '#0084ff',\n",
       " '#0065ff',\n",
       " '#004cff',\n",
       " '#0023ff',\n",
       " '#0000f1',\n",
       " '#0000d5',\n",
       " '#0000b8',\n",
       " '#00009c',\n",
       " '#000080']"
      ]
     },
     "execution_count": 21,
     "metadata": {},
     "output_type": "execute_result"
    }
   ],
   "source": [
    "dj_datamap(df, 'shadow', colors, legend='shadow', datanum=None, binmin=0, binmax=1000, binstep=10, colortype='step')"
   ]
  },
  {
   "cell_type": "code",
   "execution_count": 22,
   "metadata": {},
   "outputs": [],
   "source": [
    "df['buld_elev'].sort_values(ascending=False)\n",
    "df = df.loc[df['buld_elev'] < 350]"
   ]
  },
  {
   "cell_type": "code",
   "execution_count": 23,
   "metadata": {},
   "outputs": [
    {
     "data": {
      "text/plain": [
       "60780     40\n",
       "81842     39\n",
       "109500    39\n",
       "23403     36\n",
       "44697     36\n",
       "134616    36\n",
       "106864    36\n",
       "69846     36\n",
       "14816     35\n",
       "135474    35\n",
       "72532     35\n",
       "66609     35\n",
       "10896     35\n",
       "42721     35\n",
       "75861     34\n",
       "121968    34\n",
       "121970    34\n",
       "38899     34\n",
       "140449    33\n",
       "85098     33\n",
       "137316    33\n",
       "29587     32\n",
       "98434     32\n",
       "35313     32\n",
       "47995     32\n",
       "137647    32\n",
       "72822     32\n",
       "103570    32\n",
       "110014    31\n",
       "79942     31\n",
       "          ..\n",
       "43938      0\n",
       "117628     0\n",
       "117629     0\n",
       "51580      0\n",
       "39406      0\n",
       "30261      0\n",
       "76273      0\n",
       "108858     0\n",
       "51496      0\n",
       "124470     0\n",
       "96060      0\n",
       "136449     0\n",
       "132894     0\n",
       "76142      0\n",
       "10150      0\n",
       "127512     0\n",
       "72363      0\n",
       "76153      0\n",
       "130201     0\n",
       "90132      0\n",
       "142167     0\n",
       "130215     0\n",
       "40839      0\n",
       "108977     0\n",
       "90072      0\n",
       "108967     0\n",
       "45267      0\n",
       "132813     0\n",
       "83990      0\n",
       "140558     0\n",
       "Name: gro_flo_co, Length: 147741, dtype: object"
      ]
     },
     "execution_count": 23,
     "metadata": {},
     "output_type": "execute_result"
    }
   ],
   "source": [
    "df['gro_flo_co'].sort_values(ascending=False)\n",
    "df = df.loc[df['gro_flo_co'] <= 40]\n",
    "df['gro_flo_co'].sort_values(ascending=False)"
   ]
  },
  {
   "cell_type": "markdown",
   "metadata": {},
   "source": [
    "##### 3.4. Function : Distribution Visualization"
   ]
  },
  {
   "cell_type": "code",
   "execution_count": 25,
   "metadata": {},
   "outputs": [
    {
     "name": "stdout",
     "output_type": "stream",
     "text": [
      "Linux\n",
      "버전:  3.1.0\n",
      "설치 위치:  /home/jehyun/anaconda3/lib/python3.7/site-packages/matplotlib/__init__.py\n",
      "설정 위치:  /home/jehyun/.config/matplotlib\n",
      "캐시 위치:  /home/jehyun/.cache/matplotlib\n",
      "설정 파일 위치:  /home/jehyun/anaconda3/lib/python3.7/site-packages/matplotlib/mpl-data/matplotlibrc\n",
      "NanumGothic\n"
     ]
    }
   ],
   "source": [
    "import seaborn as sns\n",
    "sns.set(style='whitegrid')\n",
    "sns.set(font_scale=1)\n",
    "\n",
    "import platform\n",
    "system = platform.system()\n",
    "print(system)\n",
    "\n",
    "# -*- coding: UTF-8 -*-\n",
    "%matplotlib inline  \n",
    "\n",
    "import matplotlib as mpl  # 기본 설정 만지는 용도\n",
    "import matplotlib.pyplot as plt  # 그래프 그리는 용도\n",
    "import matplotlib.font_manager as fm  # 폰트 관련 용도\n",
    "\n",
    "print ('버전: ', mpl.__version__)\n",
    "print ('설치 위치: ', mpl.__file__)\n",
    "print ('설정 위치: ', mpl.get_configdir())\n",
    "print ('캐시 위치: ', mpl.get_cachedir())\n",
    "print ('설정 파일 위치: ', mpl.matplotlib_fname())\n",
    "font_list = fm.findSystemFonts(fontpaths=None, fontext='ttf')\n",
    "\n",
    "if system == 'Windows':\n",
    "    datapath = os.getcwd() + '\\\\'\n",
    "    imagepath = datapath + 'images\\\\'\n",
    "\n",
    "    # ttf 폰트 전체개수\n",
    "    print(len(font_list))\n",
    "    font_list[:10]\n",
    "\n",
    "    f = [f.name for f in fm.fontManager.ttflist]\n",
    "    print(len(font_list))\n",
    "    f[:10]\n",
    "\n",
    "    [(f.name, f.fname) for f in fm.fontManager.ttflist if 'Nanum' in f.name]\n",
    "\n",
    "    path = 'C:\\\\Windows\\\\Fonts\\\\NanumBarunGothic.ttf'\n",
    "    font_name = fm.FontProperties(fname=path, size=50).get_name()\n",
    "\n",
    "    print(font_name)\n",
    "    plt.rc('font', family=font_name)\n",
    "  \n",
    "elif system == 'Linux':\n",
    "    datapath = os.getcwd() + '//'\n",
    "    imagepath = datapath + 'images//'\n",
    "\n",
    "#     !apt-get update -qq\n",
    "#     !apt-get install fonts-nanum* -qq\n",
    "\n",
    "    path = '/usr/share/fonts/truetype/nanum/NanumGothic.ttf'  # 설치된 나눔글꼴중 원하는 녀석의 전체 경로를 가져오자\n",
    "    font_name = fm.FontProperties(fname=path, size=10).get_name()\n",
    "\n",
    "    print(font_name)\n",
    "    plt.rc('font', family=font_name)\n",
    "\n",
    "    fm._rebuild()\n",
    "    mpl.rcParams['axes.unicode_minus'] = False\n",
    "  \n",
    "else:\n",
    "    print('# Sorry, my code has compatibility with Windows and Linux only.')\n",
    "    exit(0)"
   ]
  },
  {
   "cell_type": "code",
   "execution_count": 26,
   "metadata": {},
   "outputs": [
    {
     "data": {
      "image/png": "[encoded data removed]",
      "text/plain": [
       "<Figure size 720x72 with 1 Axes>"
      ]
     },
     "metadata": {},
     "output_type": "display_data"
    }
   ],
   "source": [
    "# Figure style setting\n",
    "sns.set_style('whitegrid')\n",
    "sns.palplot(sns.color_palette('muted'))\n",
    "sns.set_context(\"talk\")\n",
    "plt.rc('font', family=font_name)\n",
    "fm._rebuild()\n",
    "mpl.rcParams['axes.unicode_minus'] = False"
   ]
  },
  {
   "cell_type": "code",
   "execution_count": 40,
   "metadata": {},
   "outputs": [],
   "source": [
    "import numpy as np\n",
    "def dist_plot(df, xk, xv):\n",
    "\n",
    "    fig, ax = plt.subplots(figsize=(6,6))\n",
    "    f = sns.distplot(df[xk], kde=False, rug=False)\n",
    "\n",
    "    if xv == '건물 면적':\n",
    "        f.set(yscale='log')\n",
    "\n",
    "    mean_val = df[xk].mean()\n",
    "    std_val = df[xk].std()\n",
    "    max_val = df[xk].max()\n",
    "    min_val = df[xk].min()\n",
    "    \n",
    "    print('{}: mean= {:.2f}, st.dev.= {:.2f}, min= {:.2f}, max= {:.2f}'.format(xk, mean_val, std_val, min_val, max_val))\n",
    "\n",
    "#     fig.text(0.3,0.8, '     mean : {:>3.02f}'.format(mean_val), fontsize=16)\n",
    "#     fig.text(0.3,0.75, '        std : {:>3.02f}'.format(std_val), fontsize=16)\n",
    "#     fig.text(0.3,0.7, '       max : {:>3.02f}'.format(max_val), fontsize=16)\n",
    "#     fig.text(0.3,0.65, '       min : {:>3.02f}'.format(min_val), fontsize=16)\n",
    "\n",
    "    # The most frequent bin\n",
    "    heights = [h.get_height() for h in f.patches]\n",
    "    index_max = np.argmax(heights)\n",
    "#     max_x = f.patches[index_max].get_x() + np.array([0, f.patches[index_max].get_width()/2])\n",
    "#     fig.text(0.3,0.6, 'max bin : {:>.02f}~{:>.02f}'.format(max_x[0], max_x[1]), fontsize=16, color='blue')\n",
    "#     f.patches[index_max].set_color('blue')\n",
    "\n",
    "    f.set(xlabel=xv)\n",
    "    plt.tight_layout()\n",
    "    f.figure.savefig('./images/distrib_{}.png'.format(xv))"
   ]
  },
  {
   "cell_type": "code",
   "execution_count": 57,
   "metadata": {},
   "outputs": [],
   "source": [
    "xs = {\n",
    "    'gro_flo_co' : '지상 층수',\n",
    "    'buld_area' : '건물 면적',\n",
    "    'buld_elev' : '건물 표고',\n",
    "    'y17' : '음영반영 일사량',\n",
    "    'st_y17': '위성일사량',\n",
    "    'shadow': '음영 기인 일사량 손실률'\n",
    "}"
   ]
  },
  {
   "cell_type": "code",
   "execution_count": 58,
   "metadata": {},
   "outputs": [
    {
     "name": "stdout",
     "output_type": "stream",
     "text": [
      "gro_flo_co: mean= 2.22, st.dev.= 2.61, min= 0.00, max= 40.00\n",
      "buld_area: mean= 186.51, st.dev.= 773.33, min= 0.09, max= 130409.55\n",
      "buld_elev: mean= 64.72, st.dev.= 24.00, min= 0.00, max= 347.80\n",
      "y17: mean= 1080.84, st.dev.= 146.16, min= 0.00, max= 1457.28\n",
      "st_y17: mean= 1445.17, st.dev.= 7.22, min= 1429.47, max= 1482.60\n",
      "shadow: mean= 0.25, st.dev.= 0.10, min= -0.00, max= 1.00\n"
     ]
    },
    {
     "data": {
      "image/png": "[encoded data removed]",
      "text/plain": [
       "<Figure size 432x432 with 1 Axes>"
      ]
     },
     "metadata": {
      "needs_background": "light"
     },
     "output_type": "display_data"
    },
    {
     "data": {
      "image/png": "[encoded data removed]",
      "text/plain": [
       "<Figure size 432x432 with 1 Axes>"
      ]
     },
     "metadata": {
      "needs_background": "light"
     },
     "output_type": "display_data"
    },
    {
     "data": {
      "image/png": "[encoded data removed]",
      "text/plain": [
       "<Figure size 432x432 with 1 Axes>"
      ]
     },
     "metadata": {
      "needs_background": "light"
     },
     "output_type": "display_data"
    },
    {
     "data": {
      "image/png": "[encoded data removed]",
      "text/plain": [
       "<Figure size 432x432 with 1 Axes>"
      ]
     },
     "metadata": {
      "needs_background": "light"
     },
     "output_type": "display_data"
    },
    {
     "data": {
      "image/png": "[encoded data removed]",
      "text/plain": [
       "<Figure size 432x432 with 1 Axes>"
      ]
     },
     "metadata": {
      "needs_background": "light"
     },
     "output_type": "display_data"
    },
    {
     "data": {
      "image/png": "[encoded data removed]",
      "text/plain": [
       "<Figure size 432x432 with 1 Axes>"
      ]
     },
     "metadata": {
      "needs_background": "light"
     },
     "output_type": "display_data"
    }
   ],
   "source": [
    "for xk, xv in xs.items():\n",
    "    dist_plot(df, xk, xv)"
   ]
  },
  {
   "cell_type": "code",
   "execution_count": 30,
   "metadata": {},
   "outputs": [
    {
     "name": "stdout",
     "output_type": "stream",
     "text": [
      "3169\n",
      "0.021447811903569446\n"
     ]
    }
   ],
   "source": [
    "flo_1 = df[df['gro_flo_co'] >= 10].shape[0]\n",
    "print(flo_1)\n",
    "\n",
    "print(flo_1/147754)"
   ]
  },
  {
   "cell_type": "code",
   "execution_count": 46,
   "metadata": {},
   "outputs": [
    {
     "name": "stdout",
     "output_type": "stream",
     "text": [
      "144971\n",
      "0.9812509729865102\n"
     ]
    }
   ],
   "source": [
    "area_1 = df[df['buld_area'] < 1000].shape[0]\n",
    "print(area_1)\n",
    "\n",
    "print(area_1/df.shape[0])"
   ]
  },
  {
   "cell_type": "code",
   "execution_count": 31,
   "metadata": {},
   "outputs": [],
   "source": [
    "df['gro_flo_co'] = df['gro_flo_co'].astype('int')"
   ]
  },
  {
   "cell_type": "code",
   "execution_count": 36,
   "metadata": {},
   "outputs": [
    {
     "name": "stdout",
     "output_type": "stream",
     "text": [
      "Index(['gid', 'buld_se_cd', 'buld_se_nm', 'bdtyp_cd', 'apt_yn', 'gro_flo_co',\n",
      "       'sig_cd', 'sig_nm', 'emd_cd', 'emd_nm', 'tm_x', 'tm_y', 'lon', 'lat',\n",
      "       'buld_area', 'buld_elev', 'm01', 'm02', 'm03', 'm04', 'm05', 'm06',\n",
      "       'm07', 'm08', 'm09', 'm10', 'm11', 'm12', 'y17', 'st_m01', 'st_m02',\n",
      "       'st_m03', 'st_m04', 'st_m05', 'st_m06', 'st_m07', 'st_m08', 'st_m09',\n",
      "       'st_m10', 'st_m11', 'st_m12', 'st_y17', 'shadow'],\n",
      "      dtype='object')\n"
     ]
    },
    {
     "data": {
      "text/markdown": [
       "(index)|gid|buld_se_cd|buld_se_nm|bdtyp_cd|apt_yn|gro_flo_co|sig_cd|sig_nm|emd_cd|emd_nm|tm_x|tm_y|lon|lat|buld_area|buld_elev|m01|m02|m03|m04|m05|m06|m07|m08|m09|m10|m11|m12|y17|st_m01|st_m02|st_m03|st_m04|st_m05|st_m06|st_m07|st_m08|st_m09|st_m10|st_m11|st_m12|st_y17|shadow\n",
       "---|---|---|---|---|---|---|---|---|---|---|---|---|---|---|---|---|---|---|---|---|---|---|---|---|---|---|---|---|---|---|---|---|---|---|---|---|---|---|---|---|---|---|---\n",
       "0|24300|0|지상|4299|N|1|30110|동구|30110137|대별동|241302.419829207|409864.414379324|127.459746194608|36.2858798245272|199.109760164108|80|61.587998174704|76.368132857176|108.372413947032|130.399191728005|153.301471581826|138.981246232986|94.1192299952874|116.160557618508|107.075909293615|76.0582836270332|63.2461349872442|57.7913106771616|1183.46187899663|77.4414291381836|97.5647354125977|136.456909179688|159.853820800781|181.146118164063|161.53076171875|109.31169128418|138.931045532227|133.254684448242|95.6145782470703|80.3922271728516|72.975700378418|1444.47375488281|261.01187588617995\n",
       "1|16295|0|지상|1001|N|1|30110|동구|30110105|가오동|240815.01297069|412384.958080419|127.454452653456|36.3086147051094|77.3923177693719|71|54.6587660438136|74.3240604024184|109.983418941498|131.021371841431|148.915192252711|136.026762912148|91.4622986442164|112.346493419848|109.010571178637|75.9642522084086|59.7529277174096|48.7103261571181|1152.17643617329|77.5996551513672|96.7234191894531|136.413635253906|159.390518188477|180.87614440918|165.518310546875|112.231346130371|137.366897583008|134.195907592773|96.3771133422852|79.9522476196289|72.7179718017578|1449.36315917969|297.1867230063999\n",
       "2|24341|0|지상|1001|N|1|30110|동구|30110137|대별동|241460.822383503|410090.94543095|127.461521377075|36.2879144426327|91.0763856790575|77|62.304043189339|78.0388102324113|110.389678457509|130.250699416451|150.068157859471|135.022302627563|92.2708638232687|114.937465916509|108.497603748156|77.568351952926|64.5584099811056|58.3052325248718|1182.21162281866|77.4414291381836|97.5647354125977|136.456909179688|159.853820800781|181.146118164063|161.53076171875|109.31169128418|138.931045532227|133.254684448242|95.6145782470703|80.3922271728516|72.975700378418|1444.47375488281|262.2621320641499\n",
       "3|24345|0|지상|4402|N|1|30110|동구|30110137|대별동|241530.22297262|410067.763074595|127.462292655181|36.2877025481814|51.2017056163047|78|48.6805400936692|60.6419043452651|86.4692395528158|105.063324045252|123.864551473547|112.271188029536|75.3915986661558|93.4298842041581|85.6682357434873|60.3520038746021|50.0022062372278|45.6562534349936|947.490926106771|77.4414291381836|97.5647354125977|136.456909179688|159.853820800781|181.146118164063|161.53076171875|109.31169128418|138.931045532227|133.254684448242|95.6145782470703|80.3922271728516|72.975700378418|1444.47375488281|496.982828776039\n",
       "4|24374|0|지상|18999|N|1|30110|동구|30110137|대별동|241500.967910986|409605.204042476|127.461942445015|36.2835354035404|455.844166700596|80|67.2504756116031|84.0601618833709|119.429690775118|141.218664905481|162.556833049707|146.167080444202|99.8334377941332|124.410167208889|117.419092797396|83.4298420412499|69.2576492167356|62.8880742809229|1277.92121626201|77.4414291381836|97.5647354125977|136.456909179688|159.853820800781|181.146118164063|161.53076171875|109.31169128418|138.931045532227|133.254684448242|95.6145782470703|80.3922271728516|72.975700378418|1444.47375488281|166.55253862080008\n"
      ],
      "text/plain": [
       "<IPython.core.display.Markdown object>"
      ]
     },
     "metadata": {},
     "output_type": "display_data"
    },
    {
     "data": {
      "text/markdown": [
       "(index)|gro_flo_co|tm_x|tm_y|lon|lat|buld_area|buld_elev|y17|st_y17|shadow\n",
       "---|---|---|---|---|---|---|---|---|---|---\n",
       "0|1|241302.419829207|409864.414379324|127.459746194608|36.2858798245272|199.109760164108|80|1183.46187899663|1444.47375488281|261.01187588617995\n",
       "1|1|240815.01297069|412384.958080419|127.454452653456|36.3086147051094|77.3923177693719|71|1152.17643617329|1449.36315917969|297.1867230063999\n",
       "2|1|241460.822383503|410090.94543095|127.461521377075|36.2879144426327|91.0763856790575|77|1182.21162281866|1444.47375488281|262.2621320641499\n",
       "3|1|241530.22297262|410067.763074595|127.462292655181|36.2877025481814|51.2017056163047|78|947.490926106771|1444.47375488281|496.982828776039\n",
       "4|1|241500.967910986|409605.204042476|127.461942445015|36.2835354035404|455.844166700596|80|1277.92121626201|1444.47375488281|166.55253862080008\n"
      ],
      "text/plain": [
       "<IPython.core.display.Markdown object>"
      ]
     },
     "metadata": {},
     "output_type": "display_data"
    }
   ],
   "source": [
    "print(df.columns)\n",
    "df2md(df.head())\n",
    "col_del = ['gid', 'buld_se_cd', 'buld_se_nm', 'bdtyp_cd', 'apt_yn','sig_cd', 'sig_nm', 'emd_cd', 'emd_nm', 'm01', 'm02', 'm03', 'm04', 'm05', 'm06',\\\n",
    "       'm07', 'm08', 'm09', 'm10', 'm11', 'm12','st_m01', 'st_m02','st_m03', 'st_m04', 'st_m05', 'st_m06', 'st_m07', 'st_m08', 'st_m09','st_m10', 'st_m11', 'st_m12', ]\n",
    "df1 = df.drop(columns=col_del)\n",
    "df2md(df1.head())"
   ]
  },
  {
   "cell_type": "code",
   "execution_count": 59,
   "metadata": {},
   "outputs": [
    {
     "data": {
      "text/markdown": [
       "(index)|gro_flo_co|tm_x|tm_y|lon|lat|buld_area|buld_elev|y17|st_y17|shadow|h_abs\n",
       "---|---|---|---|---|---|---|---|---|---|---|---\n",
       "0|1|241302.419829207|409864.414379324|127.459746194608|36.2858798245272|199.109760164108|80|1183.46187899663|1444.47375488281|261.01187588617995|83.14\n",
       "1|1|240815.01297069|412384.958080419|127.454452653456|36.3086147051094|77.3923177693719|71|1152.17643617329|1449.36315917969|297.1867230063999|74.14\n",
       "2|1|241460.822383503|410090.94543095|127.461521377075|36.2879144426327|91.0763856790575|77|1182.21162281866|1444.47375488281|262.2621320641499|80.14\n",
       "3|1|241530.22297262|410067.763074595|127.462292655181|36.2877025481814|51.2017056163047|78|947.490926106771|1444.47375488281|496.982828776039|81.14\n",
       "4|1|241500.967910986|409605.204042476|127.461942445015|36.2835354035404|455.844166700596|80|1277.92121626201|1444.47375488281|166.55253862080008|83.14\n"
      ],
      "text/plain": [
       "<IPython.core.display.Markdown object>"
      ]
     },
     "metadata": {},
     "output_type": "display_data"
    }
   ],
   "source": [
    "df1['h_abs'] = df1['buld_elev'] + 3.14 * df1['gro_flo_co']\n",
    "df2md(df1.head())"
   ]
  },
  {
   "cell_type": "markdown",
   "metadata": {},
   "source": [
    "* 인접 건물 추출"
   ]
  },
  {
   "cell_type": "code",
   "execution_count": 61,
   "metadata": {
    "ExecuteTime": {
     "end_time": "2019-09-04T06:25:23.586094Z",
     "start_time": "2019-09-04T06:24:02.069946Z"
    }
   },
   "outputs": [
    {
     "name": "stdout",
     "output_type": "stream",
     "text": [
      "find nearestBuild time : 45.476884603500366\n"
     ]
    }
   ],
   "source": [
    "from sklearn.neighbors import KDTree\n",
    "from numpy import array\n",
    "\n",
    "\n",
    "def nearestBuild(build_data , meter) :\n",
    "\n",
    "    start = time.time()\n",
    "\n",
    "    # gu_locat\n",
    "    xylocation = pd.DataFrame()\n",
    "    xylocation['tm_x'] = build_data['tm_x']\n",
    "    xylocation['tm_y'] = build_data['tm_y']\n",
    "    xylocation['tm_x'] = xylocation['tm_x'].astype(float)\n",
    "    xylocation['tm_y'] = xylocation['tm_y'].astype(float)\n",
    "    # xylocation['gid'] = build_data['gid']\n",
    "    # 위의 gid를 넣으면 이 값 까지 계산해서 거리를 잰다 \n",
    "\n",
    "    xylocation_list = xylocation.values.tolist()\n",
    "    xylocation_np = array(xylocation_list)\n",
    "    tree = KDTree(xylocation_np)\n",
    "\n",
    "\n",
    "    realnearest_ind = []\n",
    "    realnearest_dist = []\n",
    "\n",
    "    build_count_list = []\n",
    "    realnearest_ind_list = []\n",
    "    realnearest_dist_list = []\n",
    "\n",
    "    for i in range(len(xylocation_np)) :\n",
    "\n",
    "        # 기준 빌딩의 xy좌표와 최단거리에 있는 1000개의 인접 빌딩들을 탐색\n",
    "        nearest_dist , nearest_ind = tree.query([xylocation_np[i]] , k = 1000)\n",
    "\n",
    "        for j in range(1,len(nearest_dist[0])) :\n",
    "            \n",
    "            # 100 미터 안이고\n",
    "            if nearest_dist[0][j] <= meter : \n",
    "\n",
    "\n",
    "                # 남쪽 + 양쪽 30도 위에도 포함\n",
    "#                 buildsAngle = np.arctan2(xylocation_np[i][1]-xylocation_np[nearest_ind[0][j]][1] , xylocation_np[i][0]-xylocation_np[nearest_ind[0][j]][0])  * 180 /  np.pi\n",
    "\n",
    "#                 if not ( -150 < buildsAngle <-30 ) :    \n",
    "#                     realnearest_ind.append(nearest_ind[0][j])\n",
    "#                     realnearest_dist.append(nearest_dist[0][j])\n",
    "\n",
    "\n",
    "    #           남쪽에있는 빌딩들 만을 위한 처리 \n",
    "                if  xylocation_np[i][1]-xylocation_np[nearest_ind[0][j]][1] > 0 :\n",
    "                    realnearest_ind.append(nearest_ind[0][j])\n",
    "                    realnearest_dist.append(nearest_dist[0][j])\n",
    "\n",
    "            else :\n",
    "                break\n",
    "\n",
    "        nearest_ind = np.delete(nearest_ind[0][:j] , 0)\n",
    "        build_count_list.append(len(realnearest_ind))\n",
    "        realnearest_ind_list.append(realnearest_ind)\n",
    "        realnearest_dist_list.append(realnearest_dist)\n",
    "\n",
    "        realnearest_ind = []\n",
    "        realnearest_dist = []\n",
    "    \n",
    "    # 조건에 맞는 빌딩이 없는경우 자기 자신을 넣준다 ( 에러방지 , 빈 list가 있다면 에러가 남 )\n",
    "    nearZero_list = []\n",
    "    for i in range(len(realnearest_ind_list)) :\n",
    "        if len(realnearest_ind_list[i]) == 0 :\n",
    "            nearZero_list.append(i)\n",
    "            realnearest_ind_list[i].append(i)\n",
    "            realnearest_dist_list[i].append(0)\n",
    "\n",
    "    print(\"find nearestBuild time :\", time.time() - start) \n",
    "\n",
    "    \n",
    "    return realnearest_ind_list , realnearest_dist_list , nearZero_list\n",
    "\n",
    "\n",
    "df1['tm_x'] = df1['tm_x'].astype(float)\n",
    "df1['tm_y'] = df1['tm_y'].astype(float)\n",
    "realnearest_ind_list , realnearest_dist_list , nearZero_list = nearestBuild(df1 , 100)"
   ]
  },
  {
   "cell_type": "code",
   "execution_count": 65,
   "metadata": {},
   "outputs": [
    {
     "name": "stdout",
     "output_type": "stream",
     "text": [
      "Dist min 값 :  0.6699526599160539 max 값 :  99.99997302055972\n",
      "Dist min idx :  145740 max idx :  59332\n"
     ]
    }
   ],
   "source": [
    "def minmaxCheck(realnearest_dist_list) :\n",
    "    maxNum = 0 \n",
    "    minNum = 100000\n",
    "    maxIdx = 0\n",
    "    minIdx = 0\n",
    "    for i in range(len(realnearest_dist_list)) :\n",
    "        for num in realnearest_dist_list[i] :\n",
    "            if num > maxNum :\n",
    "                maxNum = num\n",
    "                maxIdx = i\n",
    "            if minNum > num and num > 0 :\n",
    "                minNum = num\n",
    "                minIdx = i\n",
    "    print(\"Dist min 값 : \" , minNum , \"max 값 : \" , maxNum)\n",
    "    print(\"Dist min idx : \" , minIdx , \"max idx : \" , maxIdx)\n",
    "    return minIdx , maxIdx\n",
    "\n",
    "minIdx , maxIdx =  minmaxCheck(realnearest_dist_list)"
   ]
  },
  {
   "cell_type": "code",
   "execution_count": 66,
   "metadata": {},
   "outputs": [
    {
     "name": "stdout",
     "output_type": "stream",
     "text": [
      "> 빈 list 없음\n"
     ]
    }
   ],
   "source": [
    "def validifyDisZero(realnearest_dist_list) :\n",
    "    for i in range(len(realnearest_dist_list)) :\n",
    "        for num in realnearest_dist_list[i] :\n",
    "            if num == 0 :\n",
    "                if i != realnearest_ind_list[i][0] :\n",
    "                    print(str(i) +\"번째 인덱스 에러\")\n",
    "                    return 0\n",
    "    \n",
    "    print(\"> 빈 list 없음\")\n",
    "\n",
    "validifyDisZero(realnearest_dist_list)"
   ]
  },
  {
   "cell_type": "code",
   "execution_count": 117,
   "metadata": {},
   "outputs": [],
   "source": [
    "df1['lon'] = df1['lon'].astype('float')\n",
    "df1['lat'] = df1['lat'].astype('float')"
   ]
  },
  {
   "cell_type": "code",
   "execution_count": 115,
   "metadata": {},
   "outputs": [],
   "source": [
    "def checkCalAngle(df, idx_tgt ) :\n",
    "\n",
    "    # filename to be saved\n",
    "    filename = 'near_{}'.format(idx_tgt)\n",
    "    \n",
    "    # folium map\n",
    "    idx_lat = df['lat'].loc[idx_tgt]\n",
    "    idx_lon = df['lon'].loc[idx_tgt]\n",
    "    m = folium.Map(location=[idx_lat, idx_lon], \n",
    "                   tiles='CartoDB positron',\n",
    "                   zoom_start=13)\n",
    "    \n",
    "    # target building\n",
    "    folium.CircleMarker(\n",
    "            location = [idx_lat, idx_lon],\n",
    "            color='red',\n",
    "            fill_color='red',\n",
    "            fill_opacity=1,\n",
    "            radius=10,\n",
    "            weight=0\n",
    "        ).add_to(m)\n",
    "    \n",
    "    # plot : data as markers (actually, dots)\n",
    "    dist = realnearest_dist_list[idx_tgt]\n",
    "    for i in range(len(realnearest_ind_list[idx_tgt])):\n",
    "        idx = realnearest_ind_list[idx_tgt][i]\n",
    "        # Get longitude/latitude\n",
    "        lon = df['lon'].loc[idx]\n",
    "        lat = df['lat'].loc[idx]\n",
    "        print(lon, lat)\n",
    "        \n",
    "        if i == 0:\n",
    "            color = 'blue'\n",
    "        else:\n",
    "            color = 'black'\n",
    "            \n",
    "        folium.CircleMarker(\n",
    "            location = [lat, lon],\n",
    "            color='black',\n",
    "            fill_color=color,\n",
    "            fill_opacity=0.5,\n",
    "            radius=5,\n",
    "            weight=0,\n",
    "            popup = realnearest_dist_list[idx_tgt][i]\n",
    "        ).add_to(m)\n",
    "        \n",
    "          \n",
    "            \n",
    "    # save as file\n",
    "    html2png(m, '{}.html'.format(filename), '{}.png'.format(filename))\n"
   ]
  },
  {
   "cell_type": "code",
   "execution_count": 112,
   "metadata": {},
   "outputs": [],
   "source": [
    "def check_n_run(df, idx):\n",
    "    subset = pd.DataFrame({'idx':realnearest_ind_list[idx], \n",
    "                           'dist':realnearest_dist_list[idx]})\n",
    "    print(subset.shape)\n",
    "    df2md(subset)\n",
    "    checkCalAngle(df, idx )"
   ]
  },
  {
   "cell_type": "code",
   "execution_count": 118,
   "metadata": {
    "scrolled": true
   },
   "outputs": [
    {
     "name": "stdout",
     "output_type": "stream",
     "text": [
      "(26, 2)\n"
     ]
    },
    {
     "data": {
      "text/markdown": [
       "(index)|idx|dist\n",
       "---|---|---\n",
       "0|73955|13.532133963279891\n",
       "1|120146|21.596315106145994\n",
       "2|9266|25.855557210560026\n",
       "3|137866|32.772468882165974\n",
       "4|26656|35.806688161182244\n",
       "5|119830|47.02419950641303\n",
       "6|45235|51.164532606365206\n",
       "7|63792|52.358434971825595\n",
       "8|26657|53.141710950122324\n",
       "9|119269|54.75078398687052\n",
       "10|17282|55.376492079549834\n",
       "11|8012|58.21372947054864\n",
       "12|91692|63.48694503766112\n",
       "13|82473|70.49829236290618\n",
       "14|45236|70.67026259965367\n",
       "15|96015|70.82120747369889\n",
       "16|129445|76.47250935875135\n",
       "17|31388|77.78930957216672\n",
       "18|18597|78.10517396639115\n",
       "19|35899|79.93439634435447\n",
       "20|31661|85.64573909069155\n",
       "21|101675|88.47980920662756\n",
       "22|102878|89.73878204854529\n",
       "23|129444|92.42632026448118\n",
       "24|9058|97.72059031742533\n",
       "25|63794|98.36519896681955\n"
      ],
      "text/plain": [
       "<IPython.core.display.Markdown object>"
      ]
     },
     "metadata": {},
     "output_type": "display_data"
    },
    {
     "name": "stdout",
     "output_type": "stream",
     "text": [
      "127.455263603485 36.2674395086325\n",
      "127.454752403412 36.2675485511377\n",
      "127.446306423177 36.3172481931722\n",
      "127.461309166712 36.3215575457324\n",
      "127.459194523359 36.2862679684196\n",
      "127.42731179051 36.3534303609667\n",
      "127.458388637808 36.276612176723\n",
      "127.443225957427 36.3344857510127\n",
      "127.459575371255 36.2855882846985\n",
      "127.424249671265 36.4392818405083\n",
      "127.456931990069 36.2818323064143\n",
      "127.458787487022 36.2846008728287\n",
      "127.435369721476 36.2555433227519\n",
      "127.426245735868 36.3451436932867\n",
      "127.458239180323 36.2852026191332\n",
      "127.480296433242 36.257780369269\n",
      "127.438855607945 36.2519471739923\n",
      "127.367368671745 36.3330844197134\n",
      "127.400823021854 36.3170343354564\n",
      "127.436890978702 36.2562724447136\n",
      "127.341369417218 36.2348597298779\n",
      "127.45582782352 36.2683010490373\n",
      "127.442815804671 36.2238435397705\n",
      "127.439444450594 36.2520609029733\n",
      "127.459880633356 36.2860110252287\n",
      "127.448829695435 36.3678942707051\n"
     ]
    },
    {
     "ename": "WebDriverException",
     "evalue": "Message: Failed to decode response from marionette\n",
     "output_type": "error",
     "traceback": [
      "\u001b[0;31m---------------------------------------------------------------------------\u001b[0m",
      "\u001b[0;31mWebDriverException\u001b[0m                        Traceback (most recent call last)",
      "\u001b[0;32m<ipython-input-118-959251171b10>\u001b[0m in \u001b[0;36m<module>\u001b[0;34m\u001b[0m\n\u001b[0;32m----> 1\u001b[0;31m \u001b[0mcheck_n_run\u001b[0m\u001b[0;34m(\u001b[0m\u001b[0mdf\u001b[0m\u001b[0;34m,\u001b[0m \u001b[0;36m0\u001b[0m\u001b[0;34m)\u001b[0m\u001b[0;34m\u001b[0m\u001b[0;34m\u001b[0m\u001b[0m\n\u001b[0m",
      "\u001b[0;32m<ipython-input-112-5b774c11cebf>\u001b[0m in \u001b[0;36mcheck_n_run\u001b[0;34m(df, idx)\u001b[0m\n\u001b[1;32m      4\u001b[0m     \u001b[0mprint\u001b[0m\u001b[0;34m(\u001b[0m\u001b[0msubset\u001b[0m\u001b[0;34m.\u001b[0m\u001b[0mshape\u001b[0m\u001b[0;34m)\u001b[0m\u001b[0;34m\u001b[0m\u001b[0;34m\u001b[0m\u001b[0m\n\u001b[1;32m      5\u001b[0m     \u001b[0mdf2md\u001b[0m\u001b[0;34m(\u001b[0m\u001b[0msubset\u001b[0m\u001b[0;34m)\u001b[0m\u001b[0;34m\u001b[0m\u001b[0;34m\u001b[0m\u001b[0m\n\u001b[0;32m----> 6\u001b[0;31m     \u001b[0mcheckCalAngle\u001b[0m\u001b[0;34m(\u001b[0m\u001b[0mdf\u001b[0m\u001b[0;34m,\u001b[0m \u001b[0midx\u001b[0m \u001b[0;34m)\u001b[0m\u001b[0;34m\u001b[0m\u001b[0;34m\u001b[0m\u001b[0m\n\u001b[0m",
      "\u001b[0;32m<ipython-input-115-acbb97416d1e>\u001b[0m in \u001b[0;36mcheckCalAngle\u001b[0;34m(df, idx_tgt)\u001b[0m\n\u001b[1;32m     48\u001b[0m \u001b[0;34m\u001b[0m\u001b[0m\n\u001b[1;32m     49\u001b[0m     \u001b[0;31m# save as file\u001b[0m\u001b[0;34m\u001b[0m\u001b[0;34m\u001b[0m\u001b[0;34m\u001b[0m\u001b[0m\n\u001b[0;32m---> 50\u001b[0;31m     \u001b[0mhtml2png\u001b[0m\u001b[0;34m(\u001b[0m\u001b[0mm\u001b[0m\u001b[0;34m,\u001b[0m \u001b[0;34m'{}.html'\u001b[0m\u001b[0;34m.\u001b[0m\u001b[0mformat\u001b[0m\u001b[0;34m(\u001b[0m\u001b[0mfilename\u001b[0m\u001b[0;34m)\u001b[0m\u001b[0;34m,\u001b[0m \u001b[0;34m'{}.png'\u001b[0m\u001b[0;34m.\u001b[0m\u001b[0mformat\u001b[0m\u001b[0;34m(\u001b[0m\u001b[0mfilename\u001b[0m\u001b[0;34m)\u001b[0m\u001b[0;34m)\u001b[0m\u001b[0;34m\u001b[0m\u001b[0;34m\u001b[0m\u001b[0m\n\u001b[0m",
      "\u001b[0;32m<ipython-input-3-c9e3cd351035>\u001b[0m in \u001b[0;36mhtml2png\u001b[0;34m(m, html_name, png_name, delay)\u001b[0m\n\u001b[1;32m     28\u001b[0m     \u001b[0;31m#Give the map tiles some time to load\u001b[0m\u001b[0;34m\u001b[0m\u001b[0;34m\u001b[0m\u001b[0;34m\u001b[0m\u001b[0m\n\u001b[1;32m     29\u001b[0m     \u001b[0mtime\u001b[0m\u001b[0;34m.\u001b[0m\u001b[0msleep\u001b[0m\u001b[0;34m(\u001b[0m\u001b[0mdelay\u001b[0m\u001b[0;34m)\u001b[0m\u001b[0;34m\u001b[0m\u001b[0;34m\u001b[0m\u001b[0m\n\u001b[0;32m---> 30\u001b[0;31m     \u001b[0mbrowser\u001b[0m\u001b[0;34m.\u001b[0m\u001b[0msave_screenshot\u001b[0m\u001b[0;34m(\u001b[0m\u001b[0;34m'./images/'\u001b[0m\u001b[0;34m+\u001b[0m\u001b[0mpng_name\u001b[0m\u001b[0;34m)\u001b[0m\u001b[0;34m\u001b[0m\u001b[0;34m\u001b[0m\u001b[0m\n\u001b[0m\u001b[1;32m     31\u001b[0m     \u001b[0mbrowser\u001b[0m\u001b[0;34m.\u001b[0m\u001b[0mquit\u001b[0m\u001b[0;34m(\u001b[0m\u001b[0;34m)\u001b[0m\u001b[0;34m\u001b[0m\u001b[0;34m\u001b[0m\u001b[0m\n",
      "\u001b[0;32m~/anaconda3/lib/python3.7/site-packages/selenium/webdriver/remote/webdriver.py\u001b[0m in \u001b[0;36msave_screenshot\u001b[0;34m(self, filename)\u001b[0m\n\u001b[1;32m   1053\u001b[0m             \u001b[0mdriver\u001b[0m\u001b[0;34m.\u001b[0m\u001b[0msave_screenshot\u001b[0m\u001b[0;34m(\u001b[0m\u001b[0;34m'/Screenshots/foo.png'\u001b[0m\u001b[0;34m)\u001b[0m\u001b[0;34m\u001b[0m\u001b[0;34m\u001b[0m\u001b[0m\n\u001b[1;32m   1054\u001b[0m         \"\"\"\n\u001b[0;32m-> 1055\u001b[0;31m         \u001b[0;32mreturn\u001b[0m \u001b[0mself\u001b[0m\u001b[0;34m.\u001b[0m\u001b[0mget_screenshot_as_file\u001b[0m\u001b[0;34m(\u001b[0m\u001b[0mfilename\u001b[0m\u001b[0;34m)\u001b[0m\u001b[0;34m\u001b[0m\u001b[0;34m\u001b[0m\u001b[0m\n\u001b[0m\u001b[1;32m   1056\u001b[0m \u001b[0;34m\u001b[0m\u001b[0m\n\u001b[1;32m   1057\u001b[0m     \u001b[0;32mdef\u001b[0m \u001b[0mget_screenshot_as_png\u001b[0m\u001b[0;34m(\u001b[0m\u001b[0mself\u001b[0m\u001b[0;34m)\u001b[0m\u001b[0;34m:\u001b[0m\u001b[0;34m\u001b[0m\u001b[0;34m\u001b[0m\u001b[0m\n",
      "\u001b[0;32m~/anaconda3/lib/python3.7/site-packages/selenium/webdriver/remote/webdriver.py\u001b[0m in \u001b[0;36mget_screenshot_as_file\u001b[0;34m(self, filename)\u001b[0m\n\u001b[1;32m   1030\u001b[0m             warnings.warn(\"name used for saved screenshot does not match file \"\n\u001b[1;32m   1031\u001b[0m                           \"type. It should end with a `.png` extension\", UserWarning)\n\u001b[0;32m-> 1032\u001b[0;31m         \u001b[0mpng\u001b[0m \u001b[0;34m=\u001b[0m \u001b[0mself\u001b[0m\u001b[0;34m.\u001b[0m\u001b[0mget_screenshot_as_png\u001b[0m\u001b[0;34m(\u001b[0m\u001b[0;34m)\u001b[0m\u001b[0;34m\u001b[0m\u001b[0;34m\u001b[0m\u001b[0m\n\u001b[0m\u001b[1;32m   1033\u001b[0m         \u001b[0;32mtry\u001b[0m\u001b[0;34m:\u001b[0m\u001b[0;34m\u001b[0m\u001b[0;34m\u001b[0m\u001b[0m\n\u001b[1;32m   1034\u001b[0m             \u001b[0;32mwith\u001b[0m \u001b[0mopen\u001b[0m\u001b[0;34m(\u001b[0m\u001b[0mfilename\u001b[0m\u001b[0;34m,\u001b[0m \u001b[0;34m'wb'\u001b[0m\u001b[0;34m)\u001b[0m \u001b[0;32mas\u001b[0m \u001b[0mf\u001b[0m\u001b[0;34m:\u001b[0m\u001b[0;34m\u001b[0m\u001b[0;34m\u001b[0m\u001b[0m\n",
      "\u001b[0;32m~/anaconda3/lib/python3.7/site-packages/selenium/webdriver/remote/webdriver.py\u001b[0m in \u001b[0;36mget_screenshot_as_png\u001b[0;34m(self)\u001b[0m\n\u001b[1;32m   1062\u001b[0m             \u001b[0mdriver\u001b[0m\u001b[0;34m.\u001b[0m\u001b[0mget_screenshot_as_png\u001b[0m\u001b[0;34m(\u001b[0m\u001b[0;34m)\u001b[0m\u001b[0;34m\u001b[0m\u001b[0;34m\u001b[0m\u001b[0m\n\u001b[1;32m   1063\u001b[0m         \"\"\"\n\u001b[0;32m-> 1064\u001b[0;31m         \u001b[0;32mreturn\u001b[0m \u001b[0mbase64\u001b[0m\u001b[0;34m.\u001b[0m\u001b[0mb64decode\u001b[0m\u001b[0;34m(\u001b[0m\u001b[0mself\u001b[0m\u001b[0;34m.\u001b[0m\u001b[0mget_screenshot_as_base64\u001b[0m\u001b[0;34m(\u001b[0m\u001b[0;34m)\u001b[0m\u001b[0;34m.\u001b[0m\u001b[0mencode\u001b[0m\u001b[0;34m(\u001b[0m\u001b[0;34m'ascii'\u001b[0m\u001b[0;34m)\u001b[0m\u001b[0;34m)\u001b[0m\u001b[0;34m\u001b[0m\u001b[0;34m\u001b[0m\u001b[0m\n\u001b[0m\u001b[1;32m   1065\u001b[0m \u001b[0;34m\u001b[0m\u001b[0m\n\u001b[1;32m   1066\u001b[0m     \u001b[0;32mdef\u001b[0m \u001b[0mget_screenshot_as_base64\u001b[0m\u001b[0;34m(\u001b[0m\u001b[0mself\u001b[0m\u001b[0;34m)\u001b[0m\u001b[0;34m:\u001b[0m\u001b[0;34m\u001b[0m\u001b[0;34m\u001b[0m\u001b[0m\n",
      "\u001b[0;32m~/anaconda3/lib/python3.7/site-packages/selenium/webdriver/remote/webdriver.py\u001b[0m in \u001b[0;36mget_screenshot_as_base64\u001b[0;34m(self)\u001b[0m\n\u001b[1;32m   1072\u001b[0m             \u001b[0mdriver\u001b[0m\u001b[0;34m.\u001b[0m\u001b[0mget_screenshot_as_base64\u001b[0m\u001b[0;34m(\u001b[0m\u001b[0;34m)\u001b[0m\u001b[0;34m\u001b[0m\u001b[0;34m\u001b[0m\u001b[0m\n\u001b[1;32m   1073\u001b[0m         \"\"\"\n\u001b[0;32m-> 1074\u001b[0;31m         \u001b[0;32mreturn\u001b[0m \u001b[0mself\u001b[0m\u001b[0;34m.\u001b[0m\u001b[0mexecute\u001b[0m\u001b[0;34m(\u001b[0m\u001b[0mCommand\u001b[0m\u001b[0;34m.\u001b[0m\u001b[0mSCREENSHOT\u001b[0m\u001b[0;34m)\u001b[0m\u001b[0;34m[\u001b[0m\u001b[0;34m'value'\u001b[0m\u001b[0;34m]\u001b[0m\u001b[0;34m\u001b[0m\u001b[0;34m\u001b[0m\u001b[0m\n\u001b[0m\u001b[1;32m   1075\u001b[0m \u001b[0;34m\u001b[0m\u001b[0m\n\u001b[1;32m   1076\u001b[0m     \u001b[0;32mdef\u001b[0m \u001b[0mset_window_size\u001b[0m\u001b[0;34m(\u001b[0m\u001b[0mself\u001b[0m\u001b[0;34m,\u001b[0m \u001b[0mwidth\u001b[0m\u001b[0;34m,\u001b[0m \u001b[0mheight\u001b[0m\u001b[0;34m,\u001b[0m \u001b[0mwindowHandle\u001b[0m\u001b[0;34m=\u001b[0m\u001b[0;34m'current'\u001b[0m\u001b[0;34m)\u001b[0m\u001b[0;34m:\u001b[0m\u001b[0;34m\u001b[0m\u001b[0;34m\u001b[0m\u001b[0m\n",
      "\u001b[0;32m~/anaconda3/lib/python3.7/site-packages/selenium/webdriver/remote/webdriver.py\u001b[0m in \u001b[0;36mexecute\u001b[0;34m(self, driver_command, params)\u001b[0m\n\u001b[1;32m    319\u001b[0m         \u001b[0mresponse\u001b[0m \u001b[0;34m=\u001b[0m \u001b[0mself\u001b[0m\u001b[0;34m.\u001b[0m\u001b[0mcommand_executor\u001b[0m\u001b[0;34m.\u001b[0m\u001b[0mexecute\u001b[0m\u001b[0;34m(\u001b[0m\u001b[0mdriver_command\u001b[0m\u001b[0;34m,\u001b[0m \u001b[0mparams\u001b[0m\u001b[0;34m)\u001b[0m\u001b[0;34m\u001b[0m\u001b[0;34m\u001b[0m\u001b[0m\n\u001b[1;32m    320\u001b[0m         \u001b[0;32mif\u001b[0m \u001b[0mresponse\u001b[0m\u001b[0;34m:\u001b[0m\u001b[0;34m\u001b[0m\u001b[0;34m\u001b[0m\u001b[0m\n\u001b[0;32m--> 321\u001b[0;31m             \u001b[0mself\u001b[0m\u001b[0;34m.\u001b[0m\u001b[0merror_handler\u001b[0m\u001b[0;34m.\u001b[0m\u001b[0mcheck_response\u001b[0m\u001b[0;34m(\u001b[0m\u001b[0mresponse\u001b[0m\u001b[0;34m)\u001b[0m\u001b[0;34m\u001b[0m\u001b[0;34m\u001b[0m\u001b[0m\n\u001b[0m\u001b[1;32m    322\u001b[0m             response['value'] = self._unwrap_value(\n\u001b[1;32m    323\u001b[0m                 response.get('value', None))\n",
      "\u001b[0;32m~/anaconda3/lib/python3.7/site-packages/selenium/webdriver/remote/errorhandler.py\u001b[0m in \u001b[0;36mcheck_response\u001b[0;34m(self, response)\u001b[0m\n\u001b[1;32m    240\u001b[0m                 \u001b[0malert_text\u001b[0m \u001b[0;34m=\u001b[0m \u001b[0mvalue\u001b[0m\u001b[0;34m[\u001b[0m\u001b[0;34m'alert'\u001b[0m\u001b[0;34m]\u001b[0m\u001b[0;34m.\u001b[0m\u001b[0mget\u001b[0m\u001b[0;34m(\u001b[0m\u001b[0;34m'text'\u001b[0m\u001b[0;34m)\u001b[0m\u001b[0;34m\u001b[0m\u001b[0;34m\u001b[0m\u001b[0m\n\u001b[1;32m    241\u001b[0m             \u001b[0;32mraise\u001b[0m \u001b[0mexception_class\u001b[0m\u001b[0;34m(\u001b[0m\u001b[0mmessage\u001b[0m\u001b[0;34m,\u001b[0m \u001b[0mscreen\u001b[0m\u001b[0;34m,\u001b[0m \u001b[0mstacktrace\u001b[0m\u001b[0;34m,\u001b[0m \u001b[0malert_text\u001b[0m\u001b[0;34m)\u001b[0m\u001b[0;34m\u001b[0m\u001b[0;34m\u001b[0m\u001b[0m\n\u001b[0;32m--> 242\u001b[0;31m         \u001b[0;32mraise\u001b[0m \u001b[0mexception_class\u001b[0m\u001b[0;34m(\u001b[0m\u001b[0mmessage\u001b[0m\u001b[0;34m,\u001b[0m \u001b[0mscreen\u001b[0m\u001b[0;34m,\u001b[0m \u001b[0mstacktrace\u001b[0m\u001b[0;34m)\u001b[0m\u001b[0;34m\u001b[0m\u001b[0;34m\u001b[0m\u001b[0m\n\u001b[0m\u001b[1;32m    243\u001b[0m \u001b[0;34m\u001b[0m\u001b[0m\n\u001b[1;32m    244\u001b[0m     \u001b[0;32mdef\u001b[0m \u001b[0m_value_or_default\u001b[0m\u001b[0;34m(\u001b[0m\u001b[0mself\u001b[0m\u001b[0;34m,\u001b[0m \u001b[0mobj\u001b[0m\u001b[0;34m,\u001b[0m \u001b[0mkey\u001b[0m\u001b[0;34m,\u001b[0m \u001b[0mdefault\u001b[0m\u001b[0;34m)\u001b[0m\u001b[0;34m:\u001b[0m\u001b[0;34m\u001b[0m\u001b[0;34m\u001b[0m\u001b[0m\n",
      "\u001b[0;31mWebDriverException\u001b[0m: Message: Failed to decode response from marionette\n"
     ]
    }
   ],
   "source": [
    "check_n_run(df1, 0)"
   ]
  },
  {
   "cell_type": "code",
   "execution_count": 114,
   "metadata": {},
   "outputs": [
    {
     "name": "stdout",
     "output_type": "stream",
     "text": [
      "\"0\"\n",
      "tm_x    241302.419829\n",
      "tm_y    409864.414379\n",
      "Name: 0, dtype: float64\n",
      "\"73955\"\n",
      "tm_x    240909.333200\n",
      "tm_y    407816.278003\n",
      "Name: 73955, dtype: float64\n"
     ]
    }
   ],
   "source": [
    "print('\"0\"\\n{}'.format(df1[['tm_x', 'tm_y']].loc[0]))\n",
    "print('\"73955\"\\n{}'.format(df1[['tm_x', 'tm_y']].loc[73955]))"
   ]
  },
  {
   "cell_type": "code",
   "execution_count": null,
   "metadata": {},
   "outputs": [],
   "source": []
  }
 ],
 "metadata": {
  "kernelspec": {
   "display_name": "Python 3",
   "language": "python",
   "name": "python3"
  },
  "language_info": {
   "codemirror_mode": {
    "name": "ipython",
    "version": 3
   },
   "file_extension": ".py",
   "mimetype": "text/x-python",
   "name": "python",
   "nbconvert_exporter": "python",
   "pygments_lexer": "ipython3",
   "version": "3.7.3"
  }
 },
 "nbformat": 4,
 "nbformat_minor": 4
}
