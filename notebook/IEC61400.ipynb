{
 "cells": [
  {
   "cell_type": "markdown",
   "metadata": {},
   "source": [
    "### Capture Matrix Construction using IEC61400-13"
   ]
  },
  {
   "cell_type": "markdown",
   "metadata": {},
   "source": [
    "#### 1. Import Libraries"
   ]
  },
  {
   "cell_type": "code",
   "execution_count": 1,
   "metadata": {},
   "outputs": [],
   "source": [
    "import pandas as pd\n",
    "import numpy as np\n",
    "import datetime, copy\n",
    "%matplotlib inline"
   ]
  },
  {
   "cell_type": "markdown",
   "metadata": {},
   "source": [
    "#### 2. Nice representation of DataFrame in Markdown"
   ]
  },
  {
   "cell_type": "code",
   "execution_count": 2,
   "metadata": {},
   "outputs": [],
   "source": [
    "from IPython.display import Markdown, display\n",
    "\n",
    "def df2md(df):    \n",
    "    fmt = ['---' for i in range(len(df.columns))]\n",
    "    df_fmt = pd.DataFrame([fmt], columns=df.columns)\n",
    "    df_formatted = pd.concat([df_fmt, df])\n",
    "    display(Markdown(df_formatted.to_csv(sep=\"|\", index=False)))"
   ]
  },
  {
   "cell_type": "markdown",
   "metadata": {},
   "source": [
    "#### 3. Read Data"
   ]
  },
  {
   "cell_type": "code",
   "execution_count": 3,
   "metadata": {},
   "outputs": [
    {
     "data": {
      "text/markdown": [
       "month|day|hour|minute|windDirValidation|powerValidation|meanWindSpeed|meanWindSpeedTenMinutes\r\n",
       "---|---|---|---|---|---|---|---\r\n",
       "1|18|0|0|1|0|10.355213963333378|9.092461652000043\r\n",
       "1|18|0|1|1|0|9.321983706666611|9.098565504333349\r\n",
       "1|18|0|2|1|0|9.699291810000195|9.210747028000025\r\n",
       "1|18|0|3|1|0|8.507020326666794|9.232126642666683\r\n",
       "1|18|0|4|1|0|9.689152010000056|9.329700709\r\n"
      ],
      "text/plain": [
       "<IPython.core.display.Markdown object>"
      ]
     },
     "metadata": {},
     "output_type": "display_data"
    }
   ],
   "source": [
    "infilename = '../measData_Hyosung_0118-0218.xls'\n",
    "data = pd.read_excel(infilename)\n",
    "data = data.iloc[:, 0:8]\n",
    "df2md(data.head())"
   ]
  },
  {
   "cell_type": "markdown",
   "metadata": {},
   "source": [
    "#### 4. Rename columns"
   ]
  },
  {
   "cell_type": "code",
   "execution_count": 4,
   "metadata": {},
   "outputs": [
    {
     "data": {
      "text/markdown": [
       "month|day|hour|minute|dir|pow|mean1|mean10\r\n",
       "---|---|---|---|---|---|---|---\r\n",
       "1|18|0|0|1|0|10.355213963333378|9.092461652000043\r\n",
       "1|18|0|1|1|0|9.321983706666611|9.098565504333349\r\n",
       "1|18|0|2|1|0|9.699291810000195|9.210747028000025\r\n",
       "1|18|0|3|1|0|8.507020326666794|9.232126642666683\r\n",
       "1|18|0|4|1|0|9.689152010000056|9.329700709\r\n"
      ],
      "text/plain": [
       "<IPython.core.display.Markdown object>"
      ]
     },
     "metadata": {},
     "output_type": "display_data"
    }
   ],
   "source": [
    "data.rename(columns={\n",
    "                     'windDirValidation':'dir', \n",
    "                     'powerValidation':'pow', \n",
    "                     'meanWindSpeed':'mean1',\n",
    "                     'meanWindSpeedTenMinutes':'mean10'\n",
    "                      }, inplace=True)\n",
    "df2md(data.head())"
   ]
  },
  {
   "cell_type": "markdown",
   "metadata": {},
   "source": [
    "#### 5. Check data type"
   ]
  },
  {
   "cell_type": "code",
   "execution_count": 5,
   "metadata": {},
   "outputs": [
    {
     "name": "stdout",
     "output_type": "stream",
     "text": [
      "<class 'pandas.core.frame.DataFrame'>\n",
      "RangeIndex: 46021 entries, 0 to 46020\n",
      "Data columns (total 8 columns):\n",
      "month     46021 non-null int64\n",
      "day       46021 non-null int64\n",
      "hour      46021 non-null int64\n",
      "minute    46021 non-null int64\n",
      "dir       46021 non-null int64\n",
      "pow       46021 non-null int64\n",
      "mean1     46021 non-null float64\n",
      "mean10    46021 non-null float64\n",
      "dtypes: float64(2), int64(6)\n",
      "memory usage: 2.8 MB\n"
     ]
    }
   ],
   "source": [
    "data.info()"
   ]
  },
  {
   "cell_type": "markdown",
   "metadata": {},
   "source": [
    "#### 6. Create Timestamp from split data"
   ]
  },
  {
   "cell_type": "code",
   "execution_count": 6,
   "metadata": {},
   "outputs": [
    {
     "data": {
      "text/markdown": [
       "month|day|hour|minute|dir|pow|mean1|mean10|year|dateAndTime\r\n",
       "---|---|---|---|---|---|---|---|---|---\r\n",
       "1|18|0|0|1|0|10.355213963333378|9.092461652000043|2019|2019-01-18 00:00:00\r\n",
       "1|18|0|1|1|0|9.321983706666611|9.098565504333349|2019|2019-01-18 00:01:00\r\n",
       "1|18|0|2|1|0|9.699291810000195|9.210747028000025|2019|2019-01-18 00:02:00\r\n",
       "1|18|0|3|1|0|8.507020326666794|9.232126642666683|2019|2019-01-18 00:03:00\r\n",
       "1|18|0|4|1|0|9.689152010000056|9.329700709|2019|2019-01-18 00:04:00\r\n"
      ],
      "text/plain": [
       "<IPython.core.display.Markdown object>"
      ]
     },
     "metadata": {},
     "output_type": "display_data"
    }
   ],
   "source": [
    "data['year'] = 2019\n",
    "data['dateAndTime'] = data[['year', 'month', 'day', 'hour', 'minute']].apply(lambda s: str(datetime.datetime(*s)), axis=1)\n",
    "df2md(data.head())"
   ]
  },
  {
   "cell_type": "markdown",
   "metadata": {},
   "source": [
    "#### 7. Calculate indexMinutes"
   ]
  },
  {
   "cell_type": "code",
   "execution_count": 7,
   "metadata": {},
   "outputs": [
    {
     "data": {
      "text/markdown": [
       "month|day|hour|minute|dir|pow|mean1|mean10|year|dateAndTime|indexMinutes\r\n",
       "---|---|---|---|---|---|---|---|---|---|---\r\n",
       "1|18|0|0|1|0|10.355213963333378|9.092461652000043|2019|2019-01-18 00:00:00|0\r\n",
       "1|18|0|1|1|0|9.321983706666611|9.098565504333349|2019|2019-01-18 00:01:00|1\r\n",
       "1|18|0|2|1|0|9.699291810000195|9.210747028000025|2019|2019-01-18 00:02:00|2\r\n",
       "1|18|0|3|1|0|8.507020326666794|9.232126642666683|2019|2019-01-18 00:03:00|3\r\n",
       "1|18|0|4|1|0|9.689152010000056|9.329700709|2019|2019-01-18 00:04:00|4\r\n"
      ],
      "text/plain": [
       "<IPython.core.display.Markdown object>"
      ]
     },
     "metadata": {},
     "output_type": "display_data"
    }
   ],
   "source": [
    "data['indexMinutes']= data['minute'] + 60*data['hour'] + 1440*(data['day']-18) + 44640*(data['month']-1)\n",
    "df2md(data.head())"
   ]
  },
  {
   "cell_type": "markdown",
   "metadata": {},
   "source": [
    "* **Check validity of indexMinutes**"
   ]
  },
  {
   "cell_type": "code",
   "execution_count": 8,
   "metadata": {},
   "outputs": [
    {
     "name": "stdout",
     "output_type": "stream",
     "text": [
      "      dir  pow      mean1     mean10  year          dateAndTime  indexMinutes\n",
      "5408    1    0  12.105328  12.730868  2019  2019-01-21 18:08:00          5408\n",
      "5409    1    0  12.642123  12.771113  2019  2019-01-21 18:09:00          5409\n",
      "5410    1    0  13.257978  12.790544  2019  2019-01-21 18:15:00          5415\n",
      "5411    1    0  13.186538  12.713785  2019  2019-01-21 18:16:00          5416\n",
      "      dir  pow      mean1     mean10  year          dateAndTime  indexMinutes\n",
      "5748    0    0  11.685295  11.969218  2019  2019-01-21 23:53:00          5753\n",
      "5749    0    0  12.517311  11.904316  2019  2019-01-21 23:54:00          5754\n",
      "5750    0    0  11.481346  11.841086  2019  2019-01-22 00:00:00          5760\n",
      "5751    0    0  10.568442  12.006772  2019  2019-01-22 00:01:00          5761\n"
     ]
    }
   ],
   "source": [
    "for i in range(10000):\n",
    "    if data['indexMinutes'].iloc[i+1] - data['indexMinutes'].iloc[i] != 1:\n",
    "        print(data.iloc[i-1:i+3, 4:])"
   ]
  },
  {
   "cell_type": "markdown",
   "metadata": {},
   "source": [
    "#### 8. First Data of each date"
   ]
  },
  {
   "cell_type": "code",
   "execution_count": 9,
   "metadata": {},
   "outputs": [
    {
     "data": {
      "text/markdown": [
       "month|day|hour|minute|dir|pow|mean1|mean10|year|dateAndTime|indexMinutes|idx_org\r\n",
       "---|---|---|---|---|---|---|---|---|---|---|---\r\n",
       "1|18|0|0|1|0|10.355213963333378|9.092461652000043|2019|2019-01-18 00:00:00|0|0\r\n",
       "1|19|0|0|0|0|2.5600429900000847|2.4455508209999963|2019|2019-01-19 00:00:00|1440|1440\r\n",
       "1|20|0|0|0|0|12.467226760000047|12.896619636000034|2019|2019-01-20 00:00:00|2880|2880\r\n",
       "1|21|0|0|1|0|14.329354940000181|14.847449557333368|2019|2019-01-21 00:00:00|4320|4320\r\n",
       "1|22|0|0|0|0|11.481346296666917|11.841086428333323|2019|2019-01-22 00:00:00|5760|5750\r\n"
      ],
      "text/plain": [
       "<IPython.core.display.Markdown object>"
      ]
     },
     "metadata": {},
     "output_type": "display_data"
    }
   ],
   "source": [
    "first_data1 = data.groupby(['month', 'day']).first().reset_index()\n",
    "first_data2 = data.groupby(['month', 'day']).apply(lambda x: x.index.tolist()[0]).reset_index()\n",
    "first_data2.rename(columns={0:'idx_org'}, inplace=True)\n",
    "first_data = pd.concat([first_data1, first_data2['idx_org']], axis=1)\n",
    "df2md(first_data.head())"
   ]
  },
  {
   "cell_type": "markdown",
   "metadata": {},
   "source": [
    "#### 9. Capture Matrix Construction\n",
    "* **Requirements**"
   ]
  },
  {
   "cell_type": "code",
   "execution_count": 10,
   "metadata": {},
   "outputs": [],
   "source": [
    "# global variables\n",
    "vCutIn = 4                    # Cut-in velocity\n",
    "vRated = 12                      # Rated velocity\n",
    "block_size = 10                  # Data unit block size\n",
    "\n",
    "vMax = int(vRated + 4)\n",
    "vMin = int(np.floor(vCutIn))\n",
    "bin_num = vMax - vMin  # how many bins are in capture matrix\n",
    "CM_opt_idx = np.inf\n",
    "CM_opt = np.inf\n",
    "CM_opt_array = []"
   ]
  },
  {
   "cell_type": "code",
   "execution_count": 11,
   "metadata": {},
   "outputs": [
    {
     "name": "stdout",
     "output_type": "stream",
     "text": [
      "Capture Matrix : \n",
      " [[ 4.  5.  6.  7.  8.  9. 10. 11. 12. 13. 14. 15.]\n",
      " [ 5.  6.  7.  8.  9. 10. 11. 12. 13. 14. 15. 16.]\n",
      " [20. 20. 20. 20. 20. 20. 20. 20. 20. 20. 10. 10.]]\n"
     ]
    }
   ],
   "source": [
    "# Capture Matrix Table\n",
    "\n",
    "CM_table = np.zeros((5, bin_num))\n",
    "CM_table[0] = np.arange(vMin, vMax)\n",
    "CM_table[0][0] = vCutIn\n",
    "CM_table[1] = np.arange(vMin+1, vMax+1)\n",
    "CM_table[2] = np.array([20]*(bin_num-2) + [10]*2)          # Capture Matrix Target\n",
    "\n",
    "print('Capture Matrix : \\n', CM_table[0:3])\n",
    "bin_array = CM_table[0:2]"
   ]
  },
  {
   "cell_type": "markdown",
   "metadata": {},
   "source": [
    "* **Data Screening: wind speed, power, direction**"
   ]
  },
  {
   "cell_type": "code",
   "execution_count": 12,
   "metadata": {},
   "outputs": [
    {
     "name": "stdout",
     "output_type": "stream",
     "text": [
      "14564\n"
     ]
    },
    {
     "data": {
      "text/markdown": [
       "month|day|hour|minute|dir|pow|mean1|mean10|year|dateAndTime|indexMinutes\r\n",
       "---|---|---|---|---|---|---|---|---|---|---\r\n",
       "1|18|16|53|1|1|5.098772369999969|5.1713226389999845|2019|2019-01-18 16:53:00|1013\r\n",
       "1|18|16|54|1|1|4.862361396666568|5.1015869326666605|2019|2019-01-18 16:54:00|1014\r\n",
       "1|18|16|55|1|1|5.205255633333375|5.140628235333339|2019|2019-01-18 16:55:00|1015\r\n",
       "1|18|16|56|1|1|5.734952640000007|5.118339111333343|2019|2019-01-18 16:56:00|1016\r\n",
       "1|18|16|57|1|1|5.699770606666643|5.051514756666676|2019|2019-01-18 16:57:00|1017\r\n"
      ],
      "text/plain": [
       "<IPython.core.display.Markdown object>"
      ]
     },
     "metadata": {},
     "output_type": "display_data"
    }
   ],
   "source": [
    "df_valid = data.loc[data['mean10'] < 16].loc[data['mean10'] >= 4]\n",
    "df_valid = df_valid.loc[df_valid['pow'] * df_valid['dir'] == 1]\n",
    "print(df_valid.index.size)\n",
    "df2md(df_valid.head())\n",
    "\n",
    "import copy\n",
    "data = copy.deepcopy(df_valid)"
   ]
  },
  {
   "cell_type": "markdown",
   "metadata": {},
   "source": [
    "* **Functions for Capture Matrix construction**"
   ]
  },
  {
   "cell_type": "code",
   "execution_count": 13,
   "metadata": {},
   "outputs": [],
   "source": [
    "def get_iM(date_order):\n",
    "    return first_data['indexMinutes'].loc[date_order].tolist()\n",
    "\n",
    "def findnext(iM):\n",
    "    data_next = data.loc[data['indexMinutes'] == iM]\n",
    "    while data_next.index.size == 0:\n",
    "        iM += 10\n",
    "        data_next = data.loc[data['indexMinutes'] == iM]\n",
    "        \n",
    "        if iM > data['indexMinutes'].tail(1).tolist()[0]:\n",
    "            print('### Exceed End of File {} ###'.format(iM))\n",
    "            return data_next\n",
    "        \n",
    "    return data_next"
   ]
  },
  {
   "cell_type": "code",
   "execution_count": 14,
   "metadata": {},
   "outputs": [
    {
     "data": {
      "text/markdown": [
       "month|day|hour|minute|dir|pow|mean1|mean10|year|dateAndTime|indexMinutes\r\n",
       "---|---|---|---|---|---|---|---|---|---|---\r\n",
       "1|18|17|0|1|1|4.752068026666679|4.830901898999994|2019|2019-01-18 17:00:00|1020\r\n"
      ],
      "text/plain": [
       "<IPython.core.display.Markdown object>"
      ]
     },
     "metadata": {},
     "output_type": "display_data"
    }
   ],
   "source": [
    "result = findnext(get_iM(0))\n",
    "df2md(result)"
   ]
  },
  {
   "cell_type": "markdown",
   "metadata": {},
   "source": [
    "* **Capture Matrix construction by IEC61400-13**"
   ]
  },
  {
   "cell_type": "code",
   "execution_count": 15,
   "metadata": {},
   "outputs": [],
   "source": [
    "def IEC61400(date_order):\n",
    "    data_next = findnext(get_iM(date_order))\n",
    "    iM = data_next['indexMinutes'].tolist()[0]\n",
    "    print('### indexMinutes: initial={}, actual={}'.format(first_data['indexMinutes'].loc[date_order], iM))\n",
    "    \n",
    "    cm = 0\n",
    "    while cm == 0:\n",
    "        \n",
    "        if date_order > first_data.index.size:\n",
    "            print('### Exceeds data size limitation {} ###'.format(date_order))\n",
    "            return data_next\n",
    "        \n",
    "        elif False not in (CM_table[3] >= CM_table[2]):\n",
    "            print('> Capture Matrix = {}'.format(CM_table[3]))\n",
    "            print('> No. of elements = {:d}'.format(int(np.array(CM_table[3]).sum())))\n",
    "            print('> @{}, iM={}\\n'.format(data_next['dateAndTime'].tolist()[0], data_next['indexMinutes'].tolist()[0]))\n",
    "            exit(0)\n",
    "            return data_next\n",
    "        \n",
    "        if data_next.index.size > 0:\n",
    "            vWind = data_next['mean10'].tolist()\n",
    "            iM = data_next['indexMinutes'].tolist()[0]\n",
    "            #print('vWind = ', vWind)\n",
    "\n",
    "            no_bin = np.nonzero((bin_array[0] <= vWind) == (bin_array[1] > vWind))[0][0]\n",
    "            CM_table[3][no_bin] += 1\n",
    "            #print('Capture Matrix under construction:\\n', CM_table[3])\n",
    "            #print('indexMinutes= ', iM)\n",
    "            iM += 10\n",
    "            data_next = findnext(iM)\n",
    "            "
   ]
  },
  {
   "cell_type": "code",
   "execution_count": 16,
   "metadata": {},
   "outputs": [
    {
     "name": "stdout",
     "output_type": "stream",
     "text": [
      "### date #0: 2019-01-18 00:00:00\n",
      "### indexMinutes: initial=0, actual=1020\n",
      "> Capture Matrix = [20. 52. 55. 91. 87. 80. 69. 21. 34. 63. 19. 19.]\n",
      "> No. of elements = 610\n",
      "> @2019-02-04 17:50:00, iM=25550\n",
      "\n",
      "### date #1: 2019-01-19 00:00:00\n",
      "### indexMinutes: initial=1440, actual=2100\n",
      "> Capture Matrix = [20. 53. 55. 91. 87. 80. 69. 21. 34. 63. 19. 19.]\n",
      "> No. of elements = 611\n",
      "> @2019-02-04 18:10:00, iM=25570\n",
      "\n",
      "### date #2: 2019-01-20 00:00:00\n",
      "### indexMinutes: initial=2880, actual=4830\n",
      "> Capture Matrix = [20. 66. 58. 94. 87. 80. 69. 21. 34. 63. 19. 19.]\n",
      "> No. of elements = 630\n",
      "> @2019-02-07 06:40:00, iM=29200\n",
      "\n",
      "### date #3: 2019-01-21 00:00:00\n",
      "### indexMinutes: initial=4320, actual=4830\n",
      "> Capture Matrix = [20. 66. 58. 94. 87. 80. 69. 21. 34. 63. 19. 19.]\n",
      "> No. of elements = 630\n",
      "> @2019-02-07 06:40:00, iM=29200\n",
      "\n",
      "### date #4: 2019-01-22 00:00:00\n",
      "### indexMinutes: initial=5760, actual=6290\n",
      "> Capture Matrix = [20. 67. 61. 98. 91. 83. 71. 20. 35. 63. 19. 19.]\n",
      "> No. of elements = 647\n",
      "> @2019-02-07 10:50:00, iM=29450\n",
      "\n",
      "### date #5: 2019-01-23 00:00:00\n",
      "### indexMinutes: initial=7200, actual=8220\n",
      "> Capture Matrix = [20. 67. 61. 98. 88. 83. 71. 20. 35. 63. 19. 19.]\n",
      "> No. of elements = 644\n",
      "> @2019-02-07 10:50:00, iM=29450\n",
      "\n",
      "### date #6: 2019-01-24 00:00:00\n",
      "### indexMinutes: initial=8640, actual=8640\n",
      "> Capture Matrix = [20. 67. 61. 98. 88. 79. 53. 20. 38. 59. 19. 19.]\n",
      "> No. of elements = 621\n",
      "> @2019-02-07 11:50:00, iM=29510\n",
      "\n",
      "### date #7: 2019-01-25 00:00:00\n",
      "### indexMinutes: initial=10080, actual=10150\n",
      "> Capture Matrix = [20. 59. 56. 85. 67. 56. 38. 20. 38. 59. 19. 19.]\n",
      "> No. of elements = 536\n",
      "> @2019-02-07 11:50:00, iM=29510\n",
      "\n",
      "### date #8: 2019-01-26 00:00:00\n",
      "### indexMinutes: initial=11520, actual=12030\n",
      "> Capture Matrix = [20. 59. 44. 71. 55. 49. 35. 20. 34. 54. 16. 16.]\n",
      "> No. of elements = 473\n",
      "> @2019-02-07 14:30:00, iM=29670\n",
      "\n",
      "### date #9: 2019-01-27 00:00:00\n",
      "### indexMinutes: initial=12960, actual=12960\n",
      "> Capture Matrix = [20. 59. 44. 71. 52. 39. 33. 20. 33. 49. 16. 14.]\n",
      "> No. of elements = 450\n",
      "> @2019-02-07 21:00:00, iM=30060\n",
      "\n",
      "### date #10: 2019-01-28 00:00:00\n",
      "### indexMinutes: initial=14400, actual=15250\n",
      "> Capture Matrix = [20. 58. 32. 46. 30. 33. 33. 20. 33. 49. 16. 14.]\n",
      "> No. of elements = 384\n",
      "> @2019-02-07 21:00:00, iM=30060\n",
      "\n",
      "### date #11: 2019-01-29 00:00:00\n",
      "### indexMinutes: initial=15840, actual=15840\n",
      "> Capture Matrix = [20. 58. 32. 46. 29. 28. 22. 20. 25. 36. 16. 14.]\n",
      "> No. of elements = 346\n",
      "> @2019-02-07 21:40:00, iM=30100\n",
      "\n",
      "### date #12: 2019-01-30 00:00:00\n",
      "### indexMinutes: initial=17280, actual=17280\n",
      "> Capture Matrix = [20. 60. 40. 36. 26. 46. 35. 26. 30. 37. 16. 14.]\n",
      "> No. of elements = 386\n",
      "> @2019-02-08 17:10:00, iM=31270\n",
      "\n",
      "### date #13: 2019-01-31 00:00:00\n",
      "### indexMinutes: initial=18720, actual=18760\n",
      "> Capture Matrix = [20. 51. 40. 36. 26. 46. 35. 26. 30. 37. 16. 14.]\n",
      "> No. of elements = 377\n",
      "> @2019-02-08 23:30:00, iM=31650\n",
      "\n"
     ]
    }
   ],
   "source": [
    "with open('IEC61400.csv', 'w') as f:\n",
    "    f.write('#date_order,\\\n",
    "            Init_dateAndTime,\\\n",
    "            Init_indexMinutes,\\\n",
    "            Fin_dateAndTime,\\\n",
    "            Fin_indexMinutes,\\\n",
    "            duration\\n')\n",
    "    for i in range(14):\n",
    "        CM_table[3] = np.zeros(bin_num)\n",
    "        print('### date #{}: {}'.format(i, first_data['dateAndTime'].loc[i]))\n",
    "        result = IEC61400(i)\n",
    "        if result.index.size != 0:\n",
    "            f.write('{},{},{},{},{},{}\\n'.format(i,\n",
    "                                              first_data['dateAndTime'].loc[i], \n",
    "                                              first_data['indexMinutes'].loc[i],\n",
    "                                              result['dateAndTime'].tolist()[0], \n",
    "                                              result['indexMinutes'].tolist()[0],\n",
    "                                              result['indexMinutes'].tolist()[0] - first_data['indexMinutes'].loc[i] ))"
   ]
  },
  {
   "cell_type": "markdown",
   "metadata": {},
   "source": [
    "#### 10. Result File Validation"
   ]
  },
  {
   "cell_type": "code",
   "execution_count": 17,
   "metadata": {},
   "outputs": [
    {
     "data": {
      "text/markdown": [
       "#date_order|            Init_dateAndTime|            Init_indexMinutes|            Fin_dateAndTime|            Fin_indexMinutes|            duration\r\n",
       "---|---|---|---|---|---\r\n",
       "0|2019-01-18 00:00:00|0|2019-02-04 17:50:00|25550|25550\r\n",
       "1|2019-01-19 00:00:00|1440|2019-02-04 18:10:00|25570|24130\r\n",
       "2|2019-01-20 00:00:00|2880|2019-02-07 06:40:00|29200|26320\r\n",
       "3|2019-01-21 00:00:00|4320|2019-02-07 06:40:00|29200|24880\r\n",
       "4|2019-01-22 00:00:00|5760|2019-02-07 10:50:00|29450|23690\r\n",
       "5|2019-01-23 00:00:00|7200|2019-02-07 10:50:00|29450|22250\r\n",
       "6|2019-01-24 00:00:00|8640|2019-02-07 11:50:00|29510|20870\r\n",
       "7|2019-01-25 00:00:00|10080|2019-02-07 11:50:00|29510|19430\r\n",
       "8|2019-01-26 00:00:00|11520|2019-02-07 14:30:00|29670|18150\r\n",
       "9|2019-01-27 00:00:00|12960|2019-02-07 21:00:00|30060|17100\r\n",
       "10|2019-01-28 00:00:00|14400|2019-02-07 21:00:00|30060|15660\r\n",
       "11|2019-01-29 00:00:00|15840|2019-02-07 21:40:00|30100|14260\r\n",
       "12|2019-01-30 00:00:00|17280|2019-02-08 17:10:00|31270|13990\r\n",
       "13|2019-01-31 00:00:00|18720|2019-02-08 23:30:00|31650|12930\r\n"
      ],
      "text/plain": [
       "<IPython.core.display.Markdown object>"
      ]
     },
     "metadata": {},
     "output_type": "display_data"
    }
   ],
   "source": [
    "result = pd.read_csv('IEC61400.csv')\n",
    "df2md(result)"
   ]
  }
 ],
 "metadata": {
  "kernelspec": {
   "display_name": "Python 3",
   "language": "python",
   "name": "python3"
  },
  "language_info": {
   "codemirror_mode": {
    "name": "ipython",
    "version": 3
   },
   "file_extension": ".py",
   "mimetype": "text/x-python",
   "name": "python",
   "nbconvert_exporter": "python",
   "pygments_lexer": "ipython3",
   "version": "3.6.7"
  }
 },
 "nbformat": 4,
 "nbformat_minor": 4
}
